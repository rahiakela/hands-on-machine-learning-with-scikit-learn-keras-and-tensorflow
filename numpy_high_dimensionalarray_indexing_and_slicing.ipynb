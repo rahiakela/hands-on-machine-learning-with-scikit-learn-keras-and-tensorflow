{
  "nbformat": 4,
  "nbformat_minor": 0,
  "metadata": {
    "colab": {
      "name": "numpy-high-dimensionalarray-indexing-and-slicing.ipynb",
      "provenance": [],
      "authorship_tag": "ABX9TyMneO+uGhaNcHxrz7UzEW6X",
      "include_colab_link": true
    },
    "kernelspec": {
      "name": "python3",
      "display_name": "Python 3"
    }
  },
  "cells": [
    {
      "cell_type": "markdown",
      "metadata": {
        "id": "view-in-github",
        "colab_type": "text"
      },
      "source": [
        "<a href=\"https://colab.research.google.com/github/rahiakela/hands-on-machine-learning-with-scikit-learn-keras-and-tensorflow/blob/0-math-numpy-pandas-matplotlib-guide/numpy_high_dimensionalarray_indexing_and_slicing.ipynb\" target=\"_parent\"><img src=\"https://colab.research.google.com/assets/colab-badge.svg\" alt=\"Open In Colab\"/></a>"
      ]
    },
    {
      "cell_type": "markdown",
      "metadata": {
        "id": "LCyhEzXTQUyW",
        "colab_type": "text"
      },
      "source": [
        "# Numpy High Dimensional Array Indexing and Slicing"
      ]
    },
    {
      "cell_type": "markdown",
      "metadata": {
        "id": "stWk8ss1Qj65",
        "colab_type": "text"
      },
      "source": [
        "Let's understand Numpy High Dimensional array indexing that need some mental model so that we could understand it perfectly.\n",
        "\n",
        "As we know, these are the properties of numpy array:-\n",
        "\n",
        "* **1D Array**: It is called vector and it has one dimension with shape of (m,).\n",
        "*  **2D Array**: It is called matrix and it has two dimension with shape of (m, n). It is also called the set of vector.\n",
        "* **3D Array**: It is called tensor and it has three dimension with shape of (s, m, n). It is also called the set of matrix.\n",
        "\n",
        "<img src='https://github.com/rahiakela/img-repo/blob/master/path-ai/tensor-1.png?raw=1' width='800'/>\n",
        "\n",
        "We index dimensions backward in the order, we added them. We can see that:-\n",
        "\n",
        "1. **\"dim0\" points to depth of 3d array**\n",
        "2. **\"dim1\" points to row of 3d array**\n",
        "3. **\"dim2\" points to columns of 3d array**\n",
        "\n",
        "So in the below image, we have 3d array of size $2 x 3 x 4$ and it is also called the shape of the array.\n",
        "\n",
        "<img src='https://github.com/rahiakela/img-repo/blob/master/path-ai/tensor-2.png?raw=1' width='800'/>"
      ]
    },
    {
      "cell_type": "markdown",
      "metadata": {
        "id": "IOhXHRiLTR3W",
        "colab_type": "text"
      },
      "source": [
        "We can index each item of the 3d array by specifying 3 coordinates.\n",
        "\n",
        "<img src='https://github.com/rahiakela/img-repo/blob/master/path-ai/tensor-3.png?raw=1' width='800'/>"
      ]
    },
    {
      "cell_type": "code",
      "metadata": {
        "id": "Bfr1QlWwV5Kh",
        "colab_type": "code",
        "colab": {}
      },
      "source": [
        "import numpy as np"
      ],
      "execution_count": 0,
      "outputs": []
    },
    {
      "cell_type": "code",
      "metadata": {
        "id": "7xBquktJWDGl",
        "colab_type": "code",
        "colab": {
          "base_uri": "https://localhost:8080/",
          "height": 136
        },
        "outputId": "10af3f77-1caa-4338-adab-524c06f26567"
      },
      "source": [
        "arr3d = np.array([\n",
        "    [\n",
        "      [1, 2, 3, 4],\n",
        "      [5, 6, 7, 8],\n",
        "      [9, 10, 11, 12]\n",
        "    ],\n",
        "    [\n",
        "      [13, 14, 15, 16], \n",
        "      [17, 18, 19, 20],\n",
        "      [21, 22, 23, 24]\n",
        "    ]\n",
        "])\n",
        "\n",
        "arr3d"
      ],
      "execution_count": 2,
      "outputs": [
        {
          "output_type": "execute_result",
          "data": {
            "text/plain": [
              "array([[[ 1,  2,  3,  4],\n",
              "        [ 5,  6,  7,  8],\n",
              "        [ 9, 10, 11, 12]],\n",
              "\n",
              "       [[13, 14, 15, 16],\n",
              "        [17, 18, 19, 20],\n",
              "        [21, 22, 23, 24]]])"
            ]
          },
          "metadata": {
            "tags": []
          },
          "execution_count": 2
        }
      ]
    },
    {
      "cell_type": "code",
      "metadata": {
        "id": "4NKqYwtOWnKX",
        "colab_type": "code",
        "colab": {
          "base_uri": "https://localhost:8080/",
          "height": 34
        },
        "outputId": "e8b8cf9d-dbc4-430d-ce88-11db25856903"
      },
      "source": [
        "arr3d[0, 2, 3]  # first index of 3d array, second row and 3rd column. "
      ],
      "execution_count": 3,
      "outputs": [
        {
          "output_type": "execute_result",
          "data": {
            "text/plain": [
              "12"
            ]
          },
          "metadata": {
            "tags": []
          },
          "execution_count": 3
        }
      ]
    },
    {
      "cell_type": "code",
      "metadata": {
        "id": "lyUQ2ll3XJR-",
        "colab_type": "code",
        "colab": {
          "base_uri": "https://localhost:8080/",
          "height": 34
        },
        "outputId": "89659d34-548a-469f-838b-d8251d3a15cb"
      },
      "source": [
        "arr3d[1, 0, 1]  # second index of 3d array, first row and 2nd column."
      ],
      "execution_count": 4,
      "outputs": [
        {
          "output_type": "execute_result",
          "data": {
            "text/plain": [
              "14"
            ]
          },
          "metadata": {
            "tags": []
          },
          "execution_count": 4
        }
      ]
    },
    {
      "cell_type": "code",
      "metadata": {
        "id": "qFgGbi9-XaR2",
        "colab_type": "code",
        "colab": {
          "base_uri": "https://localhost:8080/",
          "height": 34
        },
        "outputId": "4e088de7-7380-4191-ffa2-a5dd2e9f9f82"
      },
      "source": [
        "arr3d[1, 1, 3]  # second index of 3d array, second row and 4th column."
      ],
      "execution_count": 5,
      "outputs": [
        {
          "output_type": "execute_result",
          "data": {
            "text/plain": [
              "20"
            ]
          },
          "metadata": {
            "tags": []
          },
          "execution_count": 5
        }
      ]
    },
    {
      "cell_type": "code",
      "metadata": {
        "id": "fVanAjfAXmIE",
        "colab_type": "code",
        "colab": {
          "base_uri": "https://localhost:8080/",
          "height": 34
        },
        "outputId": "dddcc2b5-999e-41cd-feac-ae3f2f0ad28e"
      },
      "source": [
        "arr3d[0, 1, 3]  # first index of 3d array, second row and 4th column."
      ],
      "execution_count": 6,
      "outputs": [
        {
          "output_type": "execute_result",
          "data": {
            "text/plain": [
              "8"
            ]
          },
          "metadata": {
            "tags": []
          },
          "execution_count": 6
        }
      ]
    },
    {
      "cell_type": "markdown",
      "metadata": {
        "id": "nZaCYeEaX75k",
        "colab_type": "text"
      },
      "source": [
        "\n",
        "\n",
        "<img src='https://github.com/rahiakela/img-repo/blob/master/path-ai/tensor-4.png?raw=1' width='800'/>"
      ]
    },
    {
      "cell_type": "code",
      "metadata": {
        "id": "K-RPSzVZX3KL",
        "colab_type": "code",
        "colab": {}
      },
      "source": [
        ""
      ],
      "execution_count": 0,
      "outputs": []
    }
  ]
}