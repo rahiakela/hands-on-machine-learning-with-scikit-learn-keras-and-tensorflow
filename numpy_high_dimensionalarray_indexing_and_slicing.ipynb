{
  "nbformat": 4,
  "nbformat_minor": 0,
  "metadata": {
    "colab": {
      "name": "numpy-high-dimensionalarray-indexing-and-slicing.ipynb",
      "provenance": [],
      "toc_visible": true,
      "authorship_tag": "ABX9TyMMIbM+PTFRUuiCQnpDs+r9",
      "include_colab_link": true
    },
    "kernelspec": {
      "name": "python3",
      "display_name": "Python 3"
    }
  },
  "cells": [
    {
      "cell_type": "markdown",
      "metadata": {
        "id": "view-in-github",
        "colab_type": "text"
      },
      "source": [
        "<a href=\"https://colab.research.google.com/github/rahiakela/hands-on-machine-learning-with-scikit-learn-keras-and-tensorflow/blob/0-math-numpy-pandas-matplotlib-guide/numpy_high_dimensionalarray_indexing_and_slicing.ipynb\" target=\"_parent\"><img src=\"https://colab.research.google.com/assets/colab-badge.svg\" alt=\"Open In Colab\"/></a>"
      ]
    },
    {
      "cell_type": "markdown",
      "metadata": {
        "id": "LCyhEzXTQUyW",
        "colab_type": "text"
      },
      "source": [
        "# Numpy High Dimensional Array Indexing and Slicing"
      ]
    },
    {
      "cell_type": "markdown",
      "metadata": {
        "id": "stWk8ss1Qj65",
        "colab_type": "text"
      },
      "source": [
        "Let's understand Numpy High Dimensional array indexing that need some mental model so that we could understand it perfectly.\n",
        "\n",
        "As we know, these are the properties of numpy array:-\n",
        "\n",
        "* **1D Array**: It is called vector and it has one dimension with shape of (m,).\n",
        "*  **2D Array**: It is called matrix and it has two dimension with shape of (m, n). It is also called the set of vector.\n",
        "* **3D Array**: It is called tensor and it has three dimension with shape of (s, m, n). It is also called the set of matrix.\n",
        "\n",
        "<img src='https://github.com/rahiakela/img-repo/blob/master/path-ai/tensor-1.png?raw=1' width='800'/>\n",
        "\n",
        "We index dimensions backward in the order, we added them. We can see that:-\n",
        "\n",
        "1. **\"dim0\" points to depth of 3d array**\n",
        "2. **\"dim1\" points to row of 3d array**\n",
        "3. **\"dim2\" points to columns of 3d array**\n",
        "\n",
        "So in the below image, we have 3d array of size $2 x 3 x 4$ and it is also called the shape of the array.\n",
        "\n",
        "<img src='https://github.com/rahiakela/img-repo/blob/master/path-ai/tensor-2.png?raw=1' width='800'/>"
      ]
    },
    {
      "cell_type": "markdown",
      "metadata": {
        "id": "IOhXHRiLTR3W",
        "colab_type": "text"
      },
      "source": [
        "We can index each item of the 3d array by specifying 3 coordinates.\n",
        "\n",
        "<img src='https://github.com/rahiakela/img-repo/blob/master/path-ai/tensor-3.png?raw=1' width='800'/>"
      ]
    },
    {
      "cell_type": "code",
      "metadata": {
        "id": "Bfr1QlWwV5Kh",
        "colab_type": "code",
        "colab": {}
      },
      "source": [
        "import numpy as np"
      ],
      "execution_count": 0,
      "outputs": []
    },
    {
      "cell_type": "code",
      "metadata": {
        "id": "7xBquktJWDGl",
        "colab_type": "code",
        "outputId": "724068d0-cb83-4421-cc12-249f1d92da3e",
        "colab": {
          "base_uri": "https://localhost:8080/",
          "height": 136
        }
      },
      "source": [
        "arr3d = np.array([\n",
        "    [\n",
        "      [1, 2, 3, 4],\n",
        "      [5, 6, 7, 8],\n",
        "      [9, 10, 11, 12]\n",
        "    ],\n",
        "    [\n",
        "      [13, 14, 15, 16], \n",
        "      [17, 18, 19, 20],\n",
        "      [21, 22, 23, 24]\n",
        "    ]\n",
        "])\n",
        "\n",
        "arr3d"
      ],
      "execution_count": 2,
      "outputs": [
        {
          "output_type": "execute_result",
          "data": {
            "text/plain": [
              "array([[[ 1,  2,  3,  4],\n",
              "        [ 5,  6,  7,  8],\n",
              "        [ 9, 10, 11, 12]],\n",
              "\n",
              "       [[13, 14, 15, 16],\n",
              "        [17, 18, 19, 20],\n",
              "        [21, 22, 23, 24]]])"
            ]
          },
          "metadata": {
            "tags": []
          },
          "execution_count": 2
        }
      ]
    },
    {
      "cell_type": "code",
      "metadata": {
        "id": "4NKqYwtOWnKX",
        "colab_type": "code",
        "outputId": "c71dea00-2c5d-4aef-b76a-66aa3b904719",
        "colab": {
          "base_uri": "https://localhost:8080/",
          "height": 34
        }
      },
      "source": [
        "arr3d[0, 2, 3]  # first index of 3d array, second row and 3rd column. "
      ],
      "execution_count": 3,
      "outputs": [
        {
          "output_type": "execute_result",
          "data": {
            "text/plain": [
              "12"
            ]
          },
          "metadata": {
            "tags": []
          },
          "execution_count": 3
        }
      ]
    },
    {
      "cell_type": "code",
      "metadata": {
        "id": "lyUQ2ll3XJR-",
        "colab_type": "code",
        "outputId": "5a1eb091-ffc5-444b-dee4-3cd34975afd8",
        "colab": {
          "base_uri": "https://localhost:8080/",
          "height": 34
        }
      },
      "source": [
        "arr3d[1, 0, 1]  # second index of 3d array, first row and 2nd column."
      ],
      "execution_count": 4,
      "outputs": [
        {
          "output_type": "execute_result",
          "data": {
            "text/plain": [
              "14"
            ]
          },
          "metadata": {
            "tags": []
          },
          "execution_count": 4
        }
      ]
    },
    {
      "cell_type": "code",
      "metadata": {
        "id": "qFgGbi9-XaR2",
        "colab_type": "code",
        "outputId": "991a40bb-a883-4774-a64e-9bbbcda36aa5",
        "colab": {
          "base_uri": "https://localhost:8080/",
          "height": 34
        }
      },
      "source": [
        "arr3d[1, 1, 3]  # second index of 3d array, second row and 4th column."
      ],
      "execution_count": 5,
      "outputs": [
        {
          "output_type": "execute_result",
          "data": {
            "text/plain": [
              "20"
            ]
          },
          "metadata": {
            "tags": []
          },
          "execution_count": 5
        }
      ]
    },
    {
      "cell_type": "code",
      "metadata": {
        "id": "fVanAjfAXmIE",
        "colab_type": "code",
        "outputId": "2843440b-09f1-4f2e-aa73-21649596fc8f",
        "colab": {
          "base_uri": "https://localhost:8080/",
          "height": 34
        }
      },
      "source": [
        "arr3d[0, 1, 3]  # first index of 3d array, second row and 4th column."
      ],
      "execution_count": 6,
      "outputs": [
        {
          "output_type": "execute_result",
          "data": {
            "text/plain": [
              "8"
            ]
          },
          "metadata": {
            "tags": []
          },
          "execution_count": 6
        }
      ]
    },
    {
      "cell_type": "markdown",
      "metadata": {
        "id": "nZaCYeEaX75k",
        "colab_type": "text"
      },
      "source": [
        "We can refer to slices of the data with partial indics. \n",
        "\n",
        "<img src='https://github.com/rahiakela/img-repo/blob/master/path-ai/tensor-4.png?raw=1' width='800'/>"
      ]
    },
    {
      "cell_type": "code",
      "metadata": {
        "id": "K-RPSzVZX3KL",
        "colab_type": "code",
        "colab": {
          "base_uri": "https://localhost:8080/",
          "height": 68
        },
        "outputId": "ff437cac-90f8-4ba5-a74b-e598e147f036"
      },
      "source": [
        "arr3d[0, :, :]   # select all rows and columns of first index"
      ],
      "execution_count": 8,
      "outputs": [
        {
          "output_type": "execute_result",
          "data": {
            "text/plain": [
              "array([[ 1,  2,  3,  4],\n",
              "       [ 5,  6,  7,  8],\n",
              "       [ 9, 10, 11, 12]])"
            ]
          },
          "metadata": {
            "tags": []
          },
          "execution_count": 8
        }
      ]
    },
    {
      "cell_type": "code",
      "metadata": {
        "id": "EOm6wCkqp2Ee",
        "colab_type": "code",
        "colab": {
          "base_uri": "https://localhost:8080/",
          "height": 68
        },
        "outputId": "25a2012a-6572-444d-f8e7-e819d327076f"
      },
      "source": [
        "arr3d[1, :, :]   # select all rows and columns of second index"
      ],
      "execution_count": 9,
      "outputs": [
        {
          "output_type": "execute_result",
          "data": {
            "text/plain": [
              "array([[13, 14, 15, 16],\n",
              "       [17, 18, 19, 20],\n",
              "       [21, 22, 23, 24]])"
            ]
          },
          "metadata": {
            "tags": []
          },
          "execution_count": 9
        }
      ]
    },
    {
      "cell_type": "markdown",
      "metadata": {
        "id": "BcT33DsCpe13",
        "colab_type": "text"
      },
      "source": [
        "Now let's select a specific row of any indics. \n",
        "\n",
        "<img src='https://github.com/rahiakela/img-repo/blob/master/path-ai/tensor-5.png?raw=1' width='800'/>"
      ]
    },
    {
      "cell_type": "code",
      "metadata": {
        "id": "NiiMS7umqzD5",
        "colab_type": "code",
        "colab": {
          "base_uri": "https://localhost:8080/",
          "height": 51
        },
        "outputId": "7baa8718-8c86-46e5-bab6-2a334e09b3e4"
      },
      "source": [
        "arr3d[:, 1, :]   # select all columns of second row from both indices"
      ],
      "execution_count": 11,
      "outputs": [
        {
          "output_type": "execute_result",
          "data": {
            "text/plain": [
              "array([[ 1,  2,  3,  4],\n",
              "       [13, 14, 15, 16]])"
            ]
          },
          "metadata": {
            "tags": []
          },
          "execution_count": 11
        }
      ]
    },
    {
      "cell_type": "code",
      "metadata": {
        "id": "NGV0RJ-vrnO8",
        "colab_type": "code",
        "colab": {
          "base_uri": "https://localhost:8080/",
          "height": 51
        },
        "outputId": "bdf44943-6e57-4d85-d1d7-6e6629d6ba8e"
      },
      "source": [
        "arr3d[:, 0, :]  # select all columns of first row from both indices"
      ],
      "execution_count": 13,
      "outputs": [
        {
          "output_type": "execute_result",
          "data": {
            "text/plain": [
              "array([[ 1,  2,  3,  4],\n",
              "       [13, 14, 15, 16]])"
            ]
          },
          "metadata": {
            "tags": []
          },
          "execution_count": 13
        }
      ]
    },
    {
      "cell_type": "markdown",
      "metadata": {
        "id": "jhXzYxljqxNW",
        "colab_type": "text"
      },
      "source": [
        "Now let's select a specific column of any indics. \n",
        "\n",
        "<img src='https://github.com/rahiakela/img-repo/blob/master/path-ai/tensor-6.png?raw=1' width='800'/>"
      ]
    },
    {
      "cell_type": "code",
      "metadata": {
        "id": "e6YtJwcAwige",
        "colab_type": "code",
        "colab": {
          "base_uri": "https://localhost:8080/",
          "height": 51
        },
        "outputId": "1951367f-26b9-4d98-f001-ae26044d0fbd"
      },
      "source": [
        "arr3d[:, :, 2]   # select a specific column(3rd) from both indices"
      ],
      "execution_count": 14,
      "outputs": [
        {
          "output_type": "execute_result",
          "data": {
            "text/plain": [
              "array([[ 3,  7, 11],\n",
              "       [15, 19, 23]])"
            ]
          },
          "metadata": {
            "tags": []
          },
          "execution_count": 14
        }
      ]
    },
    {
      "cell_type": "code",
      "metadata": {
        "id": "2zLXKe59wvZO",
        "colab_type": "code",
        "colab": {
          "base_uri": "https://localhost:8080/",
          "height": 51
        },
        "outputId": "9c18f096-4793-4e36-c569-b8a8430501d0"
      },
      "source": [
        "arr3d[:, :, 1]   # select a specific column(2nd) from both indices"
      ],
      "execution_count": 15,
      "outputs": [
        {
          "output_type": "execute_result",
          "data": {
            "text/plain": [
              "array([[ 2,  6, 10],\n",
              "       [14, 18, 22]])"
            ]
          },
          "metadata": {
            "tags": []
          },
          "execution_count": 15
        }
      ]
    },
    {
      "cell_type": "markdown",
      "metadata": {
        "id": "qtvEuJa9xFsr",
        "colab_type": "text"
      },
      "source": [
        "Now let's select a range of row/column from any indics. \n",
        "\n",
        "<img src='https://github.com/rahiakela/img-repo/blob/master/path-ai/tensor-7.png?raw=1' width='800'/>"
      ]
    },
    {
      "cell_type": "code",
      "metadata": {
        "id": "zJcO2649w8AX",
        "colab_type": "code",
        "colab": {
          "base_uri": "https://localhost:8080/",
          "height": 51
        },
        "outputId": "9a9fdbfe-fdd2-4c8d-d8e5-8133a1087a7f"
      },
      "source": [
        "arr3d[0, 1:3, 2:4]   # select a range of row(2nd to 3rd row) and column(3rd to 4th col) from first indices"
      ],
      "execution_count": 17,
      "outputs": [
        {
          "output_type": "execute_result",
          "data": {
            "text/plain": [
              "array([[ 7,  8],\n",
              "       [11, 12]])"
            ]
          },
          "metadata": {
            "tags": []
          },
          "execution_count": 17
        }
      ]
    },
    {
      "cell_type": "code",
      "metadata": {
        "id": "ZmLqj7HMyCow",
        "colab_type": "code",
        "colab": {
          "base_uri": "https://localhost:8080/",
          "height": 51
        },
        "outputId": "7837dee1-0df6-427a-bdc4-c6a93782c135"
      },
      "source": [
        "arr3d[0, 0:2, 1:3]   # select a range of row(1st to 2nd row) and column(2nd to 3rd col) from first indices"
      ],
      "execution_count": 18,
      "outputs": [
        {
          "output_type": "execute_result",
          "data": {
            "text/plain": [
              "array([[2, 3],\n",
              "       [6, 7]])"
            ]
          },
          "metadata": {
            "tags": []
          },
          "execution_count": 18
        }
      ]
    },
    {
      "cell_type": "code",
      "metadata": {
        "id": "UX0WaTOVyeZw",
        "colab_type": "code",
        "colab": {
          "base_uri": "https://localhost:8080/",
          "height": 51
        },
        "outputId": "cd692a65-c7f8-4c7b-aaf4-b1f5da62ed75"
      },
      "source": [
        "arr3d[1, 1:3, 2:4]   # select a range of row(2nd to 3rd row) and column(3rd to 4th col) from second indices"
      ],
      "execution_count": 19,
      "outputs": [
        {
          "output_type": "execute_result",
          "data": {
            "text/plain": [
              "array([[19, 20],\n",
              "       [23, 24]])"
            ]
          },
          "metadata": {
            "tags": []
          },
          "execution_count": 19
        }
      ]
    },
    {
      "cell_type": "code",
      "metadata": {
        "id": "gvppRuWXypGV",
        "colab_type": "code",
        "colab": {
          "base_uri": "https://localhost:8080/",
          "height": 51
        },
        "outputId": "100bec10-22db-4c5d-d511-53bf241fa14d"
      },
      "source": [
        "arr3d[1, 0:2, 1:3]   # select a range of row(1st to 2nd row) and column(2nd to 3rd col) from second indices"
      ],
      "execution_count": 21,
      "outputs": [
        {
          "output_type": "execute_result",
          "data": {
            "text/plain": [
              "array([[14, 15],\n",
              "       [18, 19]])"
            ]
          },
          "metadata": {
            "tags": []
          },
          "execution_count": 21
        }
      ]
    },
    {
      "cell_type": "markdown",
      "metadata": {
        "id": "mVDDtMp7y1c9",
        "colab_type": "text"
      },
      "source": [
        "Now let's select a range of column of a row from any indics. \n",
        "\n",
        "<img src='https://github.com/rahiakela/img-repo/blob/master/path-ai/tensor-8.png?raw=1' width='800'/>"
      ]
    },
    {
      "cell_type": "code",
      "metadata": {
        "id": "8TFoxMjXytjQ",
        "colab_type": "code",
        "colab": {
          "base_uri": "https://localhost:8080/",
          "height": 51
        },
        "outputId": "c68ffaf1-b079-4f71-9360-d89c1e25c068"
      },
      "source": [
        "arr3d[:, 0, 1:3]   # select a range of column(2nd to 3rd col) of first row from both indices"
      ],
      "execution_count": 22,
      "outputs": [
        {
          "output_type": "execute_result",
          "data": {
            "text/plain": [
              "array([[ 2,  3],\n",
              "       [14, 15]])"
            ]
          },
          "metadata": {
            "tags": []
          },
          "execution_count": 22
        }
      ]
    },
    {
      "cell_type": "code",
      "metadata": {
        "id": "9YqEv8ZD34Mn",
        "colab_type": "code",
        "colab": {
          "base_uri": "https://localhost:8080/",
          "height": 51
        },
        "outputId": "dc5c0c03-4219-46b7-ab46-0ca1ac06638a"
      },
      "source": [
        "arr3d[:, 1, 1:3]   # select a range of column(2nd to 3rd col) of second row from both indices"
      ],
      "execution_count": 23,
      "outputs": [
        {
          "output_type": "execute_result",
          "data": {
            "text/plain": [
              "array([[ 6,  7],\n",
              "       [18, 19]])"
            ]
          },
          "metadata": {
            "tags": []
          },
          "execution_count": 23
        }
      ]
    },
    {
      "cell_type": "code",
      "metadata": {
        "id": "gGssnFjD382-",
        "colab_type": "code",
        "colab": {
          "base_uri": "https://localhost:8080/",
          "height": 34
        },
        "outputId": "e00f3ad0-ebd7-4ad7-f677-4ae3da853b9f"
      },
      "source": [
        "arr3d[0, 0, 1:3]   # select a range of column(2nd to 3rd col) of first row from first indices"
      ],
      "execution_count": 24,
      "outputs": [
        {
          "output_type": "execute_result",
          "data": {
            "text/plain": [
              "array([2, 3])"
            ]
          },
          "metadata": {
            "tags": []
          },
          "execution_count": 24
        }
      ]
    },
    {
      "cell_type": "code",
      "metadata": {
        "id": "nSpHk7O34HNw",
        "colab_type": "code",
        "colab": {
          "base_uri": "https://localhost:8080/",
          "height": 34
        },
        "outputId": "c55cd6b5-0213-42e0-854c-a0e983e94908"
      },
      "source": [
        "arr3d[1, 0, 1:3]   # select a range of column(2nd to 3rd col) of first row from second indices"
      ],
      "execution_count": 25,
      "outputs": [
        {
          "output_type": "execute_result",
          "data": {
            "text/plain": [
              "array([14, 15])"
            ]
          },
          "metadata": {
            "tags": []
          },
          "execution_count": 25
        }
      ]
    },
    {
      "cell_type": "code",
      "metadata": {
        "id": "zXjG24r74ODU",
        "colab_type": "code",
        "colab": {}
      },
      "source": [
        ""
      ],
      "execution_count": 0,
      "outputs": []
    }
  ]
}