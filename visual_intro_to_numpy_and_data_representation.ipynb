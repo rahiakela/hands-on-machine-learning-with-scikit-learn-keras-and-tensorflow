{
  "nbformat": 4,
  "nbformat_minor": 0,
  "metadata": {
    "colab": {
      "name": "visual-intro-to-numpy-and-data-representation.ipynb",
      "provenance": [],
      "toc_visible": true,
      "authorship_tag": "ABX9TyNvdRT26LoBL2bP8KJOvF9W",
      "include_colab_link": true
    },
    "kernelspec": {
      "name": "python3",
      "display_name": "Python 3"
    }
  },
  "cells": [
    {
      "cell_type": "markdown",
      "metadata": {
        "id": "view-in-github",
        "colab_type": "text"
      },
      "source": [
        "<a href=\"https://colab.research.google.com/github/rahiakela/hands-on-machine-learning-with-scikit-learn-keras-and-tensorflow/blob/0-math-numpy-pandas-matplotlib-guide/visual_intro_to_numpy_and_data_representation.ipynb\" target=\"_parent\"><img src=\"https://colab.research.google.com/assets/colab-badge.svg\" alt=\"Open In Colab\"/></a>"
      ]
    },
    {
      "cell_type": "markdown",
      "metadata": {
        "id": "6b417rpiaxRy",
        "colab_type": "text"
      },
      "source": [
        "# A Visual Intro to NumPy and Data Representation"
      ]
    },
    {
      "cell_type": "markdown",
      "metadata": {
        "id": "uun1ZIJta8ZR",
        "colab_type": "text"
      },
      "source": [
        "Reference: [A Visual Intro to NumPy and Data Representation](https://jalammar.github.io/visual-numpy/)\n",
        "\n",
        "<img src='https://github.com/rahiakela/img-repo/blob/master/numpy-array.png?raw=1' width='800'/>\n",
        "\n",
        "The [NumPy package](https://numpy.org/) is the workhorse of data analysis, machine learning, and scientific computing in the python ecosystem. It vastly simplifies manipulating and crunching vectors and matrices. Some of python’s leading package rely on NumPy as a fundamental piece of their infrastructure (examples include scikit-learn, SciPy, pandas, and tensorflow). Beyond the ability to slice and dice numeric data, mastering numpy will give you an edge when dealing and debugging with advanced usecases in these libraries.\n",
        "\n",
        "In this post, we’ll look at some of the main ways to use NumPy and how it can represent different types of data (tables, images, text…etc) before we can serve them to machine learning models.\n"
      ]
    },
    {
      "cell_type": "code",
      "metadata": {
        "id": "x-5m7Y-dcPdi",
        "colab_type": "code",
        "colab": {}
      },
      "source": [
        "import numpy as np"
      ],
      "execution_count": 0,
      "outputs": []
    },
    {
      "cell_type": "markdown",
      "metadata": {
        "id": "FnZd9oLIcYmH",
        "colab_type": "text"
      },
      "source": [
        "## Creating Arrays"
      ]
    },
    {
      "cell_type": "markdown",
      "metadata": {
        "id": "l8FC4BqycZa6",
        "colab_type": "text"
      },
      "source": [
        "We can create a NumPy array (a.k.a. the mighty [ndarray](https://docs.scipy.org/doc/numpy/reference/arrays.ndarray.html)) by passing a python list to it and using ` np.array()`. In this case, python creates the array we can see on the right here:\n",
        "\n",
        "<img src='https://github.com/rahiakela/img-repo/blob/master/create-numpy-array-1.png?raw=1' width='800'/>\n",
        "\n"
      ]
    },
    {
      "cell_type": "code",
      "metadata": {
        "id": "JwLDT0bTcUPj",
        "colab_type": "code",
        "outputId": "a04cae20-8915-4144-d46e-34d6f427e257",
        "colab": {
          "base_uri": "https://localhost:8080/",
          "height": 34
        }
      },
      "source": [
        "np.array([1, 2, 3])"
      ],
      "execution_count": 2,
      "outputs": [
        {
          "output_type": "execute_result",
          "data": {
            "text/plain": [
              "array([1, 2, 3])"
            ]
          },
          "metadata": {
            "tags": []
          },
          "execution_count": 2
        }
      ]
    },
    {
      "cell_type": "markdown",
      "metadata": {
        "id": "5W5_bOmDc3Uq",
        "colab_type": "text"
      },
      "source": [
        "There are often cases when we want NumPy to initialize the values of the array for us. NumPy provides methods like ones(), zeros(), and random.random() for these cases. We just pass them the number of elements we want it to generate:\n",
        "\n",
        "<img src='https://github.com/rahiakela/img-repo/blob/master/create-numpy-array-ones-zeros-random.png?raw=1' width='800'/>"
      ]
    },
    {
      "cell_type": "code",
      "metadata": {
        "id": "wnXW6O65cyhD",
        "colab_type": "code",
        "outputId": "40648932-3e23-40d9-adfe-ff7c8cf06868",
        "colab": {
          "base_uri": "https://localhost:8080/",
          "height": 34
        }
      },
      "source": [
        "np.ones(3)"
      ],
      "execution_count": 3,
      "outputs": [
        {
          "output_type": "execute_result",
          "data": {
            "text/plain": [
              "array([1., 1., 1.])"
            ]
          },
          "metadata": {
            "tags": []
          },
          "execution_count": 3
        }
      ]
    },
    {
      "cell_type": "code",
      "metadata": {
        "id": "8xDcDSTAdIYU",
        "colab_type": "code",
        "outputId": "656e06d7-16ed-41f4-df70-d0629c98cd7e",
        "colab": {
          "base_uri": "https://localhost:8080/",
          "height": 34
        }
      },
      "source": [
        "np.zeros(3)"
      ],
      "execution_count": 4,
      "outputs": [
        {
          "output_type": "execute_result",
          "data": {
            "text/plain": [
              "array([0., 0., 0.])"
            ]
          },
          "metadata": {
            "tags": []
          },
          "execution_count": 4
        }
      ]
    },
    {
      "cell_type": "code",
      "metadata": {
        "id": "ZD2uO_cfdK16",
        "colab_type": "code",
        "outputId": "f2abfb5e-6d76-44ee-f574-34d3fc0d5ab2",
        "colab": {
          "base_uri": "https://localhost:8080/",
          "height": 34
        }
      },
      "source": [
        "np.random.random(3)"
      ],
      "execution_count": 5,
      "outputs": [
        {
          "output_type": "execute_result",
          "data": {
            "text/plain": [
              "array([0.67695869, 0.82171071, 0.26322002])"
            ]
          },
          "metadata": {
            "tags": []
          },
          "execution_count": 5
        }
      ]
    },
    {
      "cell_type": "markdown",
      "metadata": {
        "id": "k1r3zMFAdRc5",
        "colab_type": "text"
      },
      "source": [
        "Once we’ve created our arrays, we can start to manipulate them in interesting ways."
      ]
    },
    {
      "cell_type": "markdown",
      "metadata": {
        "id": "oG9oQhR7dTfq",
        "colab_type": "text"
      },
      "source": [
        "### Array Arithmetic"
      ]
    },
    {
      "cell_type": "markdown",
      "metadata": {
        "id": "S5eI1QBAdUZo",
        "colab_type": "text"
      },
      "source": [
        "Let’s create two NumPy arrays to showcase their usefulness. We’ll call them data and ones:\n",
        "\n",
        "<img src='https://github.com/rahiakela/img-repo/blob/master/numpy-arrays-example-1.png?raw=1' width='800'/>\n"
      ]
    },
    {
      "cell_type": "code",
      "metadata": {
        "id": "5Q5EVEC7dOh0",
        "colab_type": "code",
        "colab": {}
      },
      "source": [
        "data = np.array([1, 2])\n",
        "ones = np.ones(2)"
      ],
      "execution_count": 0,
      "outputs": []
    },
    {
      "cell_type": "markdown",
      "metadata": {
        "id": "TzzMGsHvdzxq",
        "colab_type": "text"
      },
      "source": [
        "Adding them up position-wise (i.e. adding the values of each row) is as simple as typing data + ones:\n",
        "\n",
        "<img src='https://github.com/rahiakela/img-repo/blob/master/numpy-arrays-adding-1.png?raw=1' width='800'/>"
      ]
    },
    {
      "cell_type": "code",
      "metadata": {
        "id": "4b_yL6bzdw79",
        "colab_type": "code",
        "outputId": "581b049e-2b07-458d-f04e-15543d5b0e56",
        "colab": {
          "base_uri": "https://localhost:8080/",
          "height": 34
        }
      },
      "source": [
        "data + ones"
      ],
      "execution_count": 7,
      "outputs": [
        {
          "output_type": "execute_result",
          "data": {
            "text/plain": [
              "array([2., 3.])"
            ]
          },
          "metadata": {
            "tags": []
          },
          "execution_count": 7
        }
      ]
    },
    {
      "cell_type": "markdown",
      "metadata": {
        "id": "cHqMb-_9mv-x",
        "colab_type": "text"
      },
      "source": [
        "When I started learning such tools, I found it refreshing that an abstraction like this makes me not have to program such a calculation in loops. It’s a wonderful abstraction that allows you to think about problems at a higher level.\n",
        "\n",
        "And it’s not only addition that we can do this way:\n",
        "\n",
        "<img src='https://github.com/rahiakela/img-repo/blob/master/numpy-array-subtract-multiply-divide.png?raw=1' width='800'/>"
      ]
    },
    {
      "cell_type": "code",
      "metadata": {
        "id": "Ve5RJCuUd_Ve",
        "colab_type": "code",
        "outputId": "25fe0928-46b2-4879-83dc-54ee32444baf",
        "colab": {
          "base_uri": "https://localhost:8080/",
          "height": 34
        }
      },
      "source": [
        "data - ones"
      ],
      "execution_count": 8,
      "outputs": [
        {
          "output_type": "execute_result",
          "data": {
            "text/plain": [
              "array([0., 1.])"
            ]
          },
          "metadata": {
            "tags": []
          },
          "execution_count": 8
        }
      ]
    },
    {
      "cell_type": "code",
      "metadata": {
        "id": "gullgyWWm7MK",
        "colab_type": "code",
        "outputId": "bf5faba8-2622-4df9-81b9-500eb238be3e",
        "colab": {
          "base_uri": "https://localhost:8080/",
          "height": 34
        }
      },
      "source": [
        "data * data"
      ],
      "execution_count": 9,
      "outputs": [
        {
          "output_type": "execute_result",
          "data": {
            "text/plain": [
              "array([1, 4])"
            ]
          },
          "metadata": {
            "tags": []
          },
          "execution_count": 9
        }
      ]
    },
    {
      "cell_type": "code",
      "metadata": {
        "id": "LnV1UKhdm9nE",
        "colab_type": "code",
        "outputId": "3ed66933-6654-4a0e-ffb9-4b84a13f7834",
        "colab": {
          "base_uri": "https://localhost:8080/",
          "height": 34
        }
      },
      "source": [
        "data / data"
      ],
      "execution_count": 10,
      "outputs": [
        {
          "output_type": "execute_result",
          "data": {
            "text/plain": [
              "array([1., 1.])"
            ]
          },
          "metadata": {
            "tags": []
          },
          "execution_count": 10
        }
      ]
    },
    {
      "cell_type": "markdown",
      "metadata": {
        "id": "Sfc4lvIwnEGN",
        "colab_type": "text"
      },
      "source": [
        "There are often cases when we want to carry out an operation between an array and a single number (we can also call this an operation between a vector and a scalar). Say, for example, our array represents distance in miles, and we want to convert it to kilometers. We simply say data * 1.6:\n",
        "\n",
        "<img src='https://github.com/rahiakela/img-repo/blob/master/numpy-array-broadcast.png?raw=1' width='800'/>"
      ]
    },
    {
      "cell_type": "code",
      "metadata": {
        "id": "p7I4ySMNnAPp",
        "colab_type": "code",
        "outputId": "25452b9d-8346-42e3-c889-5401fe3984fa",
        "colab": {
          "base_uri": "https://localhost:8080/",
          "height": 34
        }
      },
      "source": [
        "data * 1.6"
      ],
      "execution_count": 11,
      "outputs": [
        {
          "output_type": "execute_result",
          "data": {
            "text/plain": [
              "array([1.6, 3.2])"
            ]
          },
          "metadata": {
            "tags": []
          },
          "execution_count": 11
        }
      ]
    },
    {
      "cell_type": "markdown",
      "metadata": {
        "id": "JZTHnksKnTVs",
        "colab_type": "text"
      },
      "source": [
        "See how NumPy understood that operation to mean that the multiplication should happen with each cell? That concept is called broadcasting, and it’s very useful."
      ]
    },
    {
      "cell_type": "markdown",
      "metadata": {
        "id": "YCgfSBL7nWGq",
        "colab_type": "text"
      },
      "source": [
        "### Indexing"
      ]
    },
    {
      "cell_type": "markdown",
      "metadata": {
        "id": "SXgNl3vCnW2y",
        "colab_type": "text"
      },
      "source": [
        "We can index and slice NumPy arrays in all the ways we can slice python lists:\n",
        "\n",
        "<img src='https://github.com/rahiakela/img-repo/blob/master/numpy-array-slice.png?raw=1' width='800'/>"
      ]
    },
    {
      "cell_type": "code",
      "metadata": {
        "id": "Xblz2R-ZnNub",
        "colab_type": "code",
        "colab": {}
      },
      "source": [
        "data = np.array([1, 2, 3])"
      ],
      "execution_count": 0,
      "outputs": []
    },
    {
      "cell_type": "code",
      "metadata": {
        "id": "BCVzgFd8niUj",
        "colab_type": "code",
        "outputId": "15d2bdab-5f64-4859-cac8-0e00fa19546d",
        "colab": {
          "base_uri": "https://localhost:8080/",
          "height": 34
        }
      },
      "source": [
        "data[0]"
      ],
      "execution_count": 13,
      "outputs": [
        {
          "output_type": "execute_result",
          "data": {
            "text/plain": [
              "1"
            ]
          },
          "metadata": {
            "tags": []
          },
          "execution_count": 13
        }
      ]
    },
    {
      "cell_type": "code",
      "metadata": {
        "id": "aM4XwxMCnjxr",
        "colab_type": "code",
        "outputId": "9f3832d1-95c4-4e22-b7d4-66dc24247659",
        "colab": {
          "base_uri": "https://localhost:8080/",
          "height": 34
        }
      },
      "source": [
        "data[1]"
      ],
      "execution_count": 14,
      "outputs": [
        {
          "output_type": "execute_result",
          "data": {
            "text/plain": [
              "2"
            ]
          },
          "metadata": {
            "tags": []
          },
          "execution_count": 14
        }
      ]
    },
    {
      "cell_type": "code",
      "metadata": {
        "id": "R5b0ij9NnlMW",
        "colab_type": "code",
        "outputId": "0f1668a2-4d43-4123-e013-49897600db3a",
        "colab": {
          "base_uri": "https://localhost:8080/",
          "height": 34
        }
      },
      "source": [
        "data[0:2]"
      ],
      "execution_count": 15,
      "outputs": [
        {
          "output_type": "execute_result",
          "data": {
            "text/plain": [
              "array([1, 2])"
            ]
          },
          "metadata": {
            "tags": []
          },
          "execution_count": 15
        }
      ]
    },
    {
      "cell_type": "code",
      "metadata": {
        "id": "BJyYC2denpju",
        "colab_type": "code",
        "outputId": "261f77fd-d402-4064-baa1-127b764264ad",
        "colab": {
          "base_uri": "https://localhost:8080/",
          "height": 34
        }
      },
      "source": [
        "data[1:]"
      ],
      "execution_count": 16,
      "outputs": [
        {
          "output_type": "execute_result",
          "data": {
            "text/plain": [
              "array([2, 3])"
            ]
          },
          "metadata": {
            "tags": []
          },
          "execution_count": 16
        }
      ]
    },
    {
      "cell_type": "markdown",
      "metadata": {
        "id": "9LGi7G0tn-bg",
        "colab_type": "text"
      },
      "source": [
        "### Aggregation"
      ]
    },
    {
      "cell_type": "markdown",
      "metadata": {
        "id": "FqLvdRwAn_kW",
        "colab_type": "text"
      },
      "source": [
        "Additional benefits NumPy gives us are aggregation functions:\n",
        "\n",
        "<img src='https://github.com/rahiakela/img-repo/blob/master/numpy-array-aggregation.png?raw=1' width='800'/>"
      ]
    },
    {
      "cell_type": "code",
      "metadata": {
        "id": "GqYsOSUknrPl",
        "colab_type": "code",
        "outputId": "ed496749-f980-4cf8-acf0-d9d7d4d36ec9",
        "colab": {
          "base_uri": "https://localhost:8080/",
          "height": 34
        }
      },
      "source": [
        "data.max()"
      ],
      "execution_count": 17,
      "outputs": [
        {
          "output_type": "execute_result",
          "data": {
            "text/plain": [
              "3"
            ]
          },
          "metadata": {
            "tags": []
          },
          "execution_count": 17
        }
      ]
    },
    {
      "cell_type": "code",
      "metadata": {
        "id": "gjVXUuScn1Qa",
        "colab_type": "code",
        "outputId": "facc0f5c-30dc-4da0-c49c-16cef779fd1e",
        "colab": {
          "base_uri": "https://localhost:8080/",
          "height": 34
        }
      },
      "source": [
        "data.min()"
      ],
      "execution_count": 18,
      "outputs": [
        {
          "output_type": "execute_result",
          "data": {
            "text/plain": [
              "1"
            ]
          },
          "metadata": {
            "tags": []
          },
          "execution_count": 18
        }
      ]
    },
    {
      "cell_type": "code",
      "metadata": {
        "id": "oDT8xkOPoNCP",
        "colab_type": "code",
        "outputId": "bd7a1c6f-d774-41d5-ce73-34c558eabd24",
        "colab": {
          "base_uri": "https://localhost:8080/",
          "height": 34
        }
      },
      "source": [
        "data.sum()"
      ],
      "execution_count": 19,
      "outputs": [
        {
          "output_type": "execute_result",
          "data": {
            "text/plain": [
              "6"
            ]
          },
          "metadata": {
            "tags": []
          },
          "execution_count": 19
        }
      ]
    },
    {
      "cell_type": "markdown",
      "metadata": {
        "id": "WG34jBWboT9Q",
        "colab_type": "text"
      },
      "source": [
        "In addition to min, max, and sum, you get all the greats like mean to get the average, prod to get the result of multiplying all the elements together, std to get standard deviation, and [plenty of others](https://jakevdp.github.io/PythonDataScienceHandbook/02.04-computation-on-arrays-aggregates.html)."
      ]
    },
    {
      "cell_type": "markdown",
      "metadata": {
        "id": "78_3pa4toir1",
        "colab_type": "text"
      },
      "source": [
        "### In more dimensions"
      ]
    },
    {
      "cell_type": "markdown",
      "metadata": {
        "id": "Y1DfUPSfojkx",
        "colab_type": "text"
      },
      "source": [
        "All the examples we’ve looked at deal with vectors in one dimension. A key part of the beauty of NumPy is its ability to apply everything we’ve looked at so far to any number of dimensions."
      ]
    },
    {
      "cell_type": "markdown",
      "metadata": {
        "id": "hzetDFx7ooJ6",
        "colab_type": "text"
      },
      "source": [
        "## Creating Matrices"
      ]
    },
    {
      "cell_type": "markdown",
      "metadata": {
        "id": "0gplbz8MorNQ",
        "colab_type": "text"
      },
      "source": [
        "We can pass python lists of lists in the following shape to have NumPy create a matrix to represent them:"
      ]
    },
    {
      "cell_type": "code",
      "metadata": {
        "id": "Rb0Py3TroOzz",
        "colab_type": "code",
        "outputId": "daf31cd0-cc57-418e-af6f-6aa079bcbf8a",
        "colab": {
          "base_uri": "https://localhost:8080/",
          "height": 51
        }
      },
      "source": [
        "np.array([\n",
        "   [1, 2],\n",
        "   [3, 4]       \n",
        "])"
      ],
      "execution_count": 20,
      "outputs": [
        {
          "output_type": "execute_result",
          "data": {
            "text/plain": [
              "array([[1, 2],\n",
              "       [3, 4]])"
            ]
          },
          "metadata": {
            "tags": []
          },
          "execution_count": 20
        }
      ]
    },
    {
      "cell_type": "markdown",
      "metadata": {
        "id": "Zh3vJwllNjc3",
        "colab_type": "text"
      },
      "source": [
        "<img src='https://github.com/rahiakela/img-repo/blob/master/numpy-array-create-2d.png?raw=1' width='800'/>\n",
        "\n",
        "We can also use the same methods we mentioned above (ones(), zeros(), and random.random()) as long as we give them a tuple describing the dimensions of the matrix we are creating:\n",
        "\n",
        "<img src='https://github.com/rahiakela/img-repo/blob/master/numpy-matrix-ones-zeros-random.png?raw=1' width='800'/>\n"
      ]
    },
    {
      "cell_type": "code",
      "metadata": {
        "id": "8sSltgWOO9vF",
        "colab_type": "code",
        "outputId": "7071f1a6-61c7-4cfd-f4c6-f923bffd8e3e",
        "colab": {
          "base_uri": "https://localhost:8080/",
          "height": 68
        }
      },
      "source": [
        "np.ones((3, 2))"
      ],
      "execution_count": 21,
      "outputs": [
        {
          "output_type": "execute_result",
          "data": {
            "text/plain": [
              "array([[1., 1.],\n",
              "       [1., 1.],\n",
              "       [1., 1.]])"
            ]
          },
          "metadata": {
            "tags": []
          },
          "execution_count": 21
        }
      ]
    },
    {
      "cell_type": "code",
      "metadata": {
        "id": "VaJ5nHlLPChC",
        "colab_type": "code",
        "outputId": "1895da3d-208a-419d-dfc5-baa1dd680948",
        "colab": {
          "base_uri": "https://localhost:8080/",
          "height": 68
        }
      },
      "source": [
        "np.zeros((3, 2))"
      ],
      "execution_count": 22,
      "outputs": [
        {
          "output_type": "execute_result",
          "data": {
            "text/plain": [
              "array([[0., 0.],\n",
              "       [0., 0.],\n",
              "       [0., 0.]])"
            ]
          },
          "metadata": {
            "tags": []
          },
          "execution_count": 22
        }
      ]
    },
    {
      "cell_type": "code",
      "metadata": {
        "id": "fQzqtcB-PFAE",
        "colab_type": "code",
        "outputId": "13725dd2-4595-4026-c52c-4e30cc9ca0e3",
        "colab": {
          "base_uri": "https://localhost:8080/",
          "height": 68
        }
      },
      "source": [
        "np.random.random((3, 2))"
      ],
      "execution_count": 23,
      "outputs": [
        {
          "output_type": "execute_result",
          "data": {
            "text/plain": [
              "array([[0.17286117, 0.13117469],\n",
              "       [0.42092345, 0.41046649],\n",
              "       [0.4653666 , 0.55296414]])"
            ]
          },
          "metadata": {
            "tags": []
          },
          "execution_count": 23
        }
      ]
    },
    {
      "cell_type": "markdown",
      "metadata": {
        "id": "T2iMsPAzPKAc",
        "colab_type": "text"
      },
      "source": [
        "### Matrix Arithmetic"
      ]
    },
    {
      "cell_type": "markdown",
      "metadata": {
        "id": "NOFZPFS_POac",
        "colab_type": "text"
      },
      "source": [
        "We can add and multiply matrices using arithmetic operators (+-*/) if the two matrices are the same size. NumPy handles those as position-wise operations:\n",
        "\n",
        "<img src='https://github.com/rahiakela/img-repo/blob/master/numpy-matrix-arithmetic.png?raw=1' width='800'/>"
      ]
    },
    {
      "cell_type": "code",
      "metadata": {
        "id": "V3vKb43NPI92",
        "colab_type": "code",
        "outputId": "c6f53c8b-b098-4815-fe2d-993f31e78cfb",
        "colab": {
          "base_uri": "https://localhost:8080/",
          "height": 51
        }
      },
      "source": [
        "data = np.array([\n",
        "   [1, 2],\n",
        "   [3, 4]              \n",
        "])\n",
        "\n",
        "data + ones"
      ],
      "execution_count": 24,
      "outputs": [
        {
          "output_type": "execute_result",
          "data": {
            "text/plain": [
              "array([[2., 3.],\n",
              "       [4., 5.]])"
            ]
          },
          "metadata": {
            "tags": []
          },
          "execution_count": 24
        }
      ]
    },
    {
      "cell_type": "markdown",
      "metadata": {
        "id": "yBccRDoTRIkc",
        "colab_type": "text"
      },
      "source": [
        "We can get away with doing these arithmetic operations on matrices of different size only if the different dimension is one (e.g. the matrix has only one column or one row), in which case NumPy uses its broadcast rules for that operation:\n",
        "\n",
        "<img src='https://github.com/rahiakela/img-repo/blob/master/numpy-matrix-broadcast.png?raw=1' width='800'/>"
      ]
    },
    {
      "cell_type": "code",
      "metadata": {
        "id": "JtIhDXoHPtdj",
        "colab_type": "code",
        "outputId": "2dad66ca-151d-4c32-93df-fb33b68d6ae8",
        "colab": {
          "base_uri": "https://localhost:8080/",
          "height": 68
        }
      },
      "source": [
        "data = np.array([\n",
        "   [1, 2],\n",
        "   [3, 4],\n",
        "   [5, 6]              \n",
        "])\n",
        "\n",
        "ones_row = np.ones((1, 2))\n",
        "\n",
        "data + ones_row"
      ],
      "execution_count": 25,
      "outputs": [
        {
          "output_type": "execute_result",
          "data": {
            "text/plain": [
              "array([[2., 3.],\n",
              "       [4., 5.],\n",
              "       [6., 7.]])"
            ]
          },
          "metadata": {
            "tags": []
          },
          "execution_count": 25
        }
      ]
    },
    {
      "cell_type": "markdown",
      "metadata": {
        "id": "ZZ2Iad78SLNh",
        "colab_type": "text"
      },
      "source": [
        "### Dot Product"
      ]
    },
    {
      "cell_type": "markdown",
      "metadata": {
        "id": "8KqWpgkDSMIP",
        "colab_type": "text"
      },
      "source": [
        "A key distinction to make with arithmetic is the case of [matrix multiplication](https://www.mathsisfun.com/algebra/matrix-multiplying.html) using the dot product. NumPy gives every matrix a dot() method we can use to carry-out dot product operations with other matrices:\n",
        "\n",
        "<img src='https://github.com/rahiakela/img-repo/blob/master/numpy-matrix-dot-product-1.png?raw=1' width='800'/>\n"
      ]
    },
    {
      "cell_type": "code",
      "metadata": {
        "id": "y85HhF_oRfga",
        "colab_type": "code",
        "colab": {
          "base_uri": "https://localhost:8080/",
          "height": 34
        },
        "outputId": "1b622bd1-2936-4a48-fb06-5be462213974"
      },
      "source": [
        "data = np.array([1, 2, 3])\n",
        "\n",
        "powers_of_ten = np.array([\n",
        "   [1, 10],\n",
        "   [100, 1000],\n",
        "   [10000, 100000]                       \n",
        "])\n",
        "\n",
        "data.dot(powers_of_ten)"
      ],
      "execution_count": 61,
      "outputs": [
        {
          "output_type": "execute_result",
          "data": {
            "text/plain": [
              "array([ 30201, 302010])"
            ]
          },
          "metadata": {
            "tags": []
          },
          "execution_count": 61
        }
      ]
    },
    {
      "cell_type": "markdown",
      "metadata": {
        "id": "hniQinucG3Ou",
        "colab_type": "text"
      },
      "source": [
        "I’ve added matrix dimensions at the bottom of this figure to stress that the two matrices have to have the same dimension on the side they face each other with. You can visualize this operation as looking like this:\n",
        "\n",
        "<img src='https://github.com/rahiakela/img-repo/blob/master/numpy-matrix-dot-product-2.png?raw=1' width='800'/>"
      ]
    },
    {
      "cell_type": "code",
      "metadata": {
        "id": "A0Ou84tZIMaG",
        "colab_type": "code",
        "colab": {
          "base_uri": "https://localhost:8080/",
          "height": 34
        },
        "outputId": "f70d3511-5440-4001-e4fe-70afa5136178"
      },
      "source": [
        "powers_of_ten[:, 1]"
      ],
      "execution_count": 42,
      "outputs": [
        {
          "output_type": "execute_result",
          "data": {
            "text/plain": [
              "array([    10,   1000, 100000])"
            ]
          },
          "metadata": {
            "tags": []
          },
          "execution_count": 42
        }
      ]
    },
    {
      "cell_type": "code",
      "metadata": {
        "id": "iJiAGD0JIBAy",
        "colab_type": "code",
        "colab": {
          "base_uri": "https://localhost:8080/",
          "height": 34
        },
        "outputId": "e43b2ae2-55f2-4e41-f167-68633f3140e7"
      },
      "source": [
        "col1 = powers_of_ten[:, 0]\n",
        "col2 = powers_of_ten[:, 1]\n",
        "\n",
        "sum1 = np.dot(data, col1)\n",
        "sum2 = np.dot(data, col2)\n",
        "\n",
        "np.array([sum1, sum2])"
      ],
      "execution_count": 63,
      "outputs": [
        {
          "output_type": "execute_result",
          "data": {
            "text/plain": [
              "array([ 30201, 302010])"
            ]
          },
          "metadata": {
            "tags": []
          },
          "execution_count": 63
        }
      ]
    },
    {
      "cell_type": "markdown",
      "metadata": {
        "id": "nIoVHp-sHeQE",
        "colab_type": "text"
      },
      "source": [
        "### Matrix Indexing"
      ]
    },
    {
      "cell_type": "markdown",
      "metadata": {
        "id": "oPf3xM0yHfGN",
        "colab_type": "text"
      },
      "source": [
        "Indexing and slicing operations become even more useful when we’re manipulating matrices:\n",
        "\n",
        "<img src='https://github.com/rahiakela/img-repo/blob/master/numpy-matrix-indexing.png?raw=1' width='800'/>"
      ]
    },
    {
      "cell_type": "code",
      "metadata": {
        "id": "W7rsNX4OGULY",
        "colab_type": "code",
        "colab": {
          "base_uri": "https://localhost:8080/",
          "height": 34
        },
        "outputId": "479409f2-0c40-4aa2-b3b4-aabbef06fc27"
      },
      "source": [
        "data = np.array([\n",
        "   [1, 2],\n",
        "   [3, 4],\n",
        "   [5, 6]              \n",
        "])\n",
        "\n",
        "data[0, 1]"
      ],
      "execution_count": 65,
      "outputs": [
        {
          "output_type": "execute_result",
          "data": {
            "text/plain": [
              "2"
            ]
          },
          "metadata": {
            "tags": []
          },
          "execution_count": 65
        }
      ]
    },
    {
      "cell_type": "code",
      "metadata": {
        "id": "8Lz0FmF8KcBC",
        "colab_type": "code",
        "colab": {
          "base_uri": "https://localhost:8080/",
          "height": 51
        },
        "outputId": "e5a7eb42-c227-4c84-dcd2-88777999984f"
      },
      "source": [
        "data[1:3]"
      ],
      "execution_count": 50,
      "outputs": [
        {
          "output_type": "execute_result",
          "data": {
            "text/plain": [
              "array([[3, 4],\n",
              "       [5, 6]])"
            ]
          },
          "metadata": {
            "tags": []
          },
          "execution_count": 50
        }
      ]
    },
    {
      "cell_type": "code",
      "metadata": {
        "id": "d5zuYaKKKgcm",
        "colab_type": "code",
        "colab": {
          "base_uri": "https://localhost:8080/",
          "height": 34
        },
        "outputId": "57cebd85-0d5d-471e-f291-55979eb0c6de"
      },
      "source": [
        "data[0:2, 0]"
      ],
      "execution_count": 51,
      "outputs": [
        {
          "output_type": "execute_result",
          "data": {
            "text/plain": [
              "array([1, 3])"
            ]
          },
          "metadata": {
            "tags": []
          },
          "execution_count": 51
        }
      ]
    },
    {
      "cell_type": "code",
      "metadata": {
        "id": "HAE1bVc5Kjwa",
        "colab_type": "code",
        "colab": {
          "base_uri": "https://localhost:8080/",
          "height": 34
        },
        "outputId": "a467f3d6-65d7-4b13-96dc-113d3be527e7"
      },
      "source": [
        "data[:, 0]  # select first column"
      ],
      "execution_count": 54,
      "outputs": [
        {
          "output_type": "execute_result",
          "data": {
            "text/plain": [
              "array([1, 3, 5])"
            ]
          },
          "metadata": {
            "tags": []
          },
          "execution_count": 54
        }
      ]
    },
    {
      "cell_type": "code",
      "metadata": {
        "id": "K_KzjY-mKsTQ",
        "colab_type": "code",
        "colab": {
          "base_uri": "https://localhost:8080/",
          "height": 34
        },
        "outputId": "ccd6b65d-b2a0-424c-8714-f93067494f12"
      },
      "source": [
        "data[:, 1] # select second column"
      ],
      "execution_count": 56,
      "outputs": [
        {
          "output_type": "execute_result",
          "data": {
            "text/plain": [
              "array([2, 4, 6])"
            ]
          },
          "metadata": {
            "tags": []
          },
          "execution_count": 56
        }
      ]
    },
    {
      "cell_type": "markdown",
      "metadata": {
        "id": "ykZm-KFzLEhc",
        "colab_type": "text"
      },
      "source": [
        "### Matrix Aggregation"
      ]
    },
    {
      "cell_type": "markdown",
      "metadata": {
        "id": "LMF2u4fuLFeg",
        "colab_type": "text"
      },
      "source": [
        "We can aggregate matrices the same way we aggregated vectors:\n",
        "\n",
        "<img src='https://github.com/rahiakela/img-repo/blob/master/numpy-matrix-aggregation-1.png?raw=1' width='800'/>"
      ]
    },
    {
      "cell_type": "code",
      "metadata": {
        "id": "m6RJ8SrlK0Gs",
        "colab_type": "code",
        "colab": {
          "base_uri": "https://localhost:8080/",
          "height": 34
        },
        "outputId": "ead89c8e-08fa-4a52-8f37-85a46abdb515"
      },
      "source": [
        "data = np.array([\n",
        "   [1, 2],\n",
        "   [5, 3],\n",
        "   [4, 6]              \n",
        "])\n",
        "data.max()"
      ],
      "execution_count": 74,
      "outputs": [
        {
          "output_type": "execute_result",
          "data": {
            "text/plain": [
              "6"
            ]
          },
          "metadata": {
            "tags": []
          },
          "execution_count": 74
        }
      ]
    },
    {
      "cell_type": "code",
      "metadata": {
        "id": "ulpyDdqrLUGV",
        "colab_type": "code",
        "colab": {
          "base_uri": "https://localhost:8080/",
          "height": 34
        },
        "outputId": "8da0e324-5fb8-47d6-b534-582e1995f7e3"
      },
      "source": [
        "data.min()"
      ],
      "execution_count": 75,
      "outputs": [
        {
          "output_type": "execute_result",
          "data": {
            "text/plain": [
              "1"
            ]
          },
          "metadata": {
            "tags": []
          },
          "execution_count": 75
        }
      ]
    },
    {
      "cell_type": "code",
      "metadata": {
        "id": "RuXRGhItLVwd",
        "colab_type": "code",
        "colab": {
          "base_uri": "https://localhost:8080/",
          "height": 34
        },
        "outputId": "4a009fe5-3b8f-414d-9bea-83fd9d92f8f5"
      },
      "source": [
        "data.sum()"
      ],
      "execution_count": 76,
      "outputs": [
        {
          "output_type": "execute_result",
          "data": {
            "text/plain": [
              "21"
            ]
          },
          "metadata": {
            "tags": []
          },
          "execution_count": 76
        }
      ]
    },
    {
      "cell_type": "markdown",
      "metadata": {
        "id": "xjXWf7eGLx9R",
        "colab_type": "text"
      },
      "source": [
        "Not only can we aggregate all the values in a matrix, but we can also aggregate across the rows or columns by using the axis parameter:\n",
        "\n",
        "<img src='https://github.com/rahiakela/img-repo/blob/master/numpy-matrix-aggregation-4.png?raw=1' width='800'/>"
      ]
    },
    {
      "cell_type": "code",
      "metadata": {
        "id": "f212DxToLYFg",
        "colab_type": "code",
        "colab": {
          "base_uri": "https://localhost:8080/",
          "height": 34
        },
        "outputId": "85558a2e-7556-41b0-c1cc-3b2ca864e572"
      },
      "source": [
        "data.max(axis=0)  # row by max"
      ],
      "execution_count": 77,
      "outputs": [
        {
          "output_type": "execute_result",
          "data": {
            "text/plain": [
              "array([5, 6])"
            ]
          },
          "metadata": {
            "tags": []
          },
          "execution_count": 77
        }
      ]
    },
    {
      "cell_type": "code",
      "metadata": {
        "id": "6e2SE74GMN7W",
        "colab_type": "code",
        "colab": {
          "base_uri": "https://localhost:8080/",
          "height": 34
        },
        "outputId": "26c60956-06b8-406a-c3cc-ab187623f514"
      },
      "source": [
        "data.max(axis=1) # column by max"
      ],
      "execution_count": 78,
      "outputs": [
        {
          "output_type": "execute_result",
          "data": {
            "text/plain": [
              "array([2, 5, 6])"
            ]
          },
          "metadata": {
            "tags": []
          },
          "execution_count": 78
        }
      ]
    },
    {
      "cell_type": "code",
      "metadata": {
        "id": "-9WfZMJFMYQl",
        "colab_type": "code",
        "colab": {
          "base_uri": "https://localhost:8080/",
          "height": 34
        },
        "outputId": "592f81c3-abfb-4ec6-8d7a-f301fde70448"
      },
      "source": [
        "data.sum(axis=0) # row by sum"
      ],
      "execution_count": 79,
      "outputs": [
        {
          "output_type": "execute_result",
          "data": {
            "text/plain": [
              "array([10, 11])"
            ]
          },
          "metadata": {
            "tags": []
          },
          "execution_count": 79
        }
      ]
    },
    {
      "cell_type": "code",
      "metadata": {
        "id": "1yzOgIycMgHs",
        "colab_type": "code",
        "colab": {
          "base_uri": "https://localhost:8080/",
          "height": 34
        },
        "outputId": "7a8cb2af-80e6-439d-9504-b3d586e14d1e"
      },
      "source": [
        "data.sum(axis=1) # column by sum"
      ],
      "execution_count": 80,
      "outputs": [
        {
          "output_type": "execute_result",
          "data": {
            "text/plain": [
              "array([ 3,  8, 10])"
            ]
          },
          "metadata": {
            "tags": []
          },
          "execution_count": 80
        }
      ]
    },
    {
      "cell_type": "code",
      "metadata": {
        "id": "fwJcOUwiMtOb",
        "colab_type": "code",
        "colab": {
          "base_uri": "https://localhost:8080/",
          "height": 34
        },
        "outputId": "251780d3-3251-4d0b-fa74-b7618c2e7fdf"
      },
      "source": [
        "data.min(axis=0) # row by min"
      ],
      "execution_count": 81,
      "outputs": [
        {
          "output_type": "execute_result",
          "data": {
            "text/plain": [
              "array([1, 2])"
            ]
          },
          "metadata": {
            "tags": []
          },
          "execution_count": 81
        }
      ]
    },
    {
      "cell_type": "code",
      "metadata": {
        "id": "W9EphbawNSVf",
        "colab_type": "code",
        "colab": {
          "base_uri": "https://localhost:8080/",
          "height": 34
        },
        "outputId": "a8c70677-f23a-4aad-880c-79634f57ff6e"
      },
      "source": [
        "data.min(axis=1) # column by min"
      ],
      "execution_count": 82,
      "outputs": [
        {
          "output_type": "execute_result",
          "data": {
            "text/plain": [
              "array([1, 3, 4])"
            ]
          },
          "metadata": {
            "tags": []
          },
          "execution_count": 82
        }
      ]
    },
    {
      "cell_type": "markdown",
      "metadata": {
        "id": "U64TVcx1OXKA",
        "colab_type": "text"
      },
      "source": [
        "### Transposing and Reshaping"
      ]
    },
    {
      "cell_type": "markdown",
      "metadata": {
        "id": "LkeF1TULOX_m",
        "colab_type": "text"
      },
      "source": [
        ""
      ]
    },
    {
      "cell_type": "code",
      "metadata": {
        "id": "zw78mKBQNvrT",
        "colab_type": "code",
        "colab": {}
      },
      "source": [
        ""
      ],
      "execution_count": 0,
      "outputs": []
    }
  ]
}