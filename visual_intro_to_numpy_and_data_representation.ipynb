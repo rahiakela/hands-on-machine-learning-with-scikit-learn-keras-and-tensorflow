{
  "nbformat": 4,
  "nbformat_minor": 0,
  "metadata": {
    "colab": {
      "name": "visual-intro-to-numpy-and-data-representation.ipynb",
      "provenance": [],
      "toc_visible": true,
      "authorship_tag": "ABX9TyNtBqb5y2MLGltvmXK6usch",
      "include_colab_link": true
    },
    "kernelspec": {
      "name": "python3",
      "display_name": "Python 3"
    }
  },
  "cells": [
    {
      "cell_type": "markdown",
      "metadata": {
        "id": "view-in-github",
        "colab_type": "text"
      },
      "source": [
        "<a href=\"https://colab.research.google.com/github/rahiakela/hands-on-machine-learning-with-scikit-learn-keras-and-tensorflow/blob/0-math-numpy-pandas-matplotlib-guide/visual_intro_to_numpy_and_data_representation.ipynb\" target=\"_parent\"><img src=\"https://colab.research.google.com/assets/colab-badge.svg\" alt=\"Open In Colab\"/></a>"
      ]
    },
    {
      "cell_type": "markdown",
      "metadata": {
        "id": "6b417rpiaxRy",
        "colab_type": "text"
      },
      "source": [
        "# A Visual Intro to NumPy and Data Representation"
      ]
    },
    {
      "cell_type": "markdown",
      "metadata": {
        "id": "uun1ZIJta8ZR",
        "colab_type": "text"
      },
      "source": [
        "Reference: [A Visual Intro to NumPy and Data Representation](https://jalammar.github.io/visual-numpy/)\n",
        "\n",
        "<img src='https://github.com/rahiakela/img-repo/blob/master/numpy-array.png?raw=1' width='800'/>\n",
        "\n",
        "The [NumPy package](https://numpy.org/) is the workhorse of data analysis, machine learning, and scientific computing in the python ecosystem. It vastly simplifies manipulating and crunching vectors and matrices. Some of python’s leading package rely on NumPy as a fundamental piece of their infrastructure (examples include scikit-learn, SciPy, pandas, and tensorflow). Beyond the ability to slice and dice numeric data, mastering numpy will give you an edge when dealing and debugging with advanced usecases in these libraries.\n",
        "\n",
        "In this post, we’ll look at some of the main ways to use NumPy and how it can represent different types of data (tables, images, text…etc) before we can serve them to machine learning models.\n"
      ]
    },
    {
      "cell_type": "code",
      "metadata": {
        "id": "x-5m7Y-dcPdi",
        "colab_type": "code",
        "colab": {}
      },
      "source": [
        "import numpy as np"
      ],
      "execution_count": 0,
      "outputs": []
    },
    {
      "cell_type": "markdown",
      "metadata": {
        "id": "FnZd9oLIcYmH",
        "colab_type": "text"
      },
      "source": [
        "## Creating Arrays"
      ]
    },
    {
      "cell_type": "markdown",
      "metadata": {
        "id": "l8FC4BqycZa6",
        "colab_type": "text"
      },
      "source": [
        "We can create a NumPy array (a.k.a. the mighty [ndarray](https://docs.scipy.org/doc/numpy/reference/arrays.ndarray.html)) by passing a python list to it and using ` np.array()`. In this case, python creates the array we can see on the right here:\n",
        "\n",
        "<img src='https://github.com/rahiakela/img-repo/blob/master/create-numpy-array-1.png?raw=1' width='800'/>\n",
        "\n"
      ]
    },
    {
      "cell_type": "code",
      "metadata": {
        "id": "JwLDT0bTcUPj",
        "colab_type": "code",
        "outputId": "3246c3f5-fe93-4e0f-afc5-27f521073a84",
        "colab": {
          "base_uri": "https://localhost:8080/",
          "height": 35
        }
      },
      "source": [
        "np.array([1, 2, 3])"
      ],
      "execution_count": 2,
      "outputs": [
        {
          "output_type": "execute_result",
          "data": {
            "text/plain": [
              "array([1, 2, 3])"
            ]
          },
          "metadata": {
            "tags": []
          },
          "execution_count": 2
        }
      ]
    },
    {
      "cell_type": "markdown",
      "metadata": {
        "id": "5W5_bOmDc3Uq",
        "colab_type": "text"
      },
      "source": [
        "There are often cases when we want NumPy to initialize the values of the array for us. NumPy provides methods like ones(), zeros(), and random.random() for these cases. We just pass them the number of elements we want it to generate:\n",
        "\n",
        "<img src='https://github.com/rahiakela/img-repo/blob/master/create-numpy-array-ones-zeros-random.png?raw=1' width='800'/>"
      ]
    },
    {
      "cell_type": "code",
      "metadata": {
        "id": "wnXW6O65cyhD",
        "colab_type": "code",
        "outputId": "7d001d84-4bc7-48ec-e8c7-061e703b7374",
        "colab": {
          "base_uri": "https://localhost:8080/",
          "height": 35
        }
      },
      "source": [
        "np.ones(3)"
      ],
      "execution_count": 3,
      "outputs": [
        {
          "output_type": "execute_result",
          "data": {
            "text/plain": [
              "array([1., 1., 1.])"
            ]
          },
          "metadata": {
            "tags": []
          },
          "execution_count": 3
        }
      ]
    },
    {
      "cell_type": "code",
      "metadata": {
        "id": "8xDcDSTAdIYU",
        "colab_type": "code",
        "outputId": "fa9a8f5b-c129-4b57-aabb-55326516572c",
        "colab": {
          "base_uri": "https://localhost:8080/",
          "height": 35
        }
      },
      "source": [
        "np.zeros(3)"
      ],
      "execution_count": 4,
      "outputs": [
        {
          "output_type": "execute_result",
          "data": {
            "text/plain": [
              "array([0., 0., 0.])"
            ]
          },
          "metadata": {
            "tags": []
          },
          "execution_count": 4
        }
      ]
    },
    {
      "cell_type": "code",
      "metadata": {
        "id": "ZD2uO_cfdK16",
        "colab_type": "code",
        "outputId": "61040327-0797-42da-f13a-b16542bc51f3",
        "colab": {
          "base_uri": "https://localhost:8080/",
          "height": 35
        }
      },
      "source": [
        "np.random.random(3)"
      ],
      "execution_count": 5,
      "outputs": [
        {
          "output_type": "execute_result",
          "data": {
            "text/plain": [
              "array([0.18406222, 0.31140595, 0.06426735])"
            ]
          },
          "metadata": {
            "tags": []
          },
          "execution_count": 5
        }
      ]
    },
    {
      "cell_type": "markdown",
      "metadata": {
        "id": "k1r3zMFAdRc5",
        "colab_type": "text"
      },
      "source": [
        "Once we’ve created our arrays, we can start to manipulate them in interesting ways."
      ]
    },
    {
      "cell_type": "markdown",
      "metadata": {
        "id": "oG9oQhR7dTfq",
        "colab_type": "text"
      },
      "source": [
        "## Array Arithmetic"
      ]
    },
    {
      "cell_type": "markdown",
      "metadata": {
        "id": "S5eI1QBAdUZo",
        "colab_type": "text"
      },
      "source": [
        "Let’s create two NumPy arrays to showcase their usefulness. We’ll call them data and ones:\n",
        "\n",
        "<img src='https://github.com/rahiakela/img-repo/blob/master/numpy-arrays-example-1.png?raw=1' width='800'/>\n"
      ]
    },
    {
      "cell_type": "code",
      "metadata": {
        "id": "5Q5EVEC7dOh0",
        "colab_type": "code",
        "colab": {}
      },
      "source": [
        "data = np.array([1, 2])\n",
        "ones = np.ones(2)"
      ],
      "execution_count": 0,
      "outputs": []
    },
    {
      "cell_type": "markdown",
      "metadata": {
        "id": "TzzMGsHvdzxq",
        "colab_type": "text"
      },
      "source": [
        "Adding them up position-wise (i.e. adding the values of each row) is as simple as typing data + ones:\n",
        "\n",
        "<img src='https://github.com/rahiakela/img-repo/blob/master/numpy-arrays-adding-1.png?raw=1' width='800'/>"
      ]
    },
    {
      "cell_type": "code",
      "metadata": {
        "id": "4b_yL6bzdw79",
        "colab_type": "code",
        "outputId": "5a00fda7-fd15-461b-b6c0-15a990d4ca98",
        "colab": {
          "base_uri": "https://localhost:8080/",
          "height": 35
        }
      },
      "source": [
        "data + ones"
      ],
      "execution_count": 7,
      "outputs": [
        {
          "output_type": "execute_result",
          "data": {
            "text/plain": [
              "array([2., 3.])"
            ]
          },
          "metadata": {
            "tags": []
          },
          "execution_count": 7
        }
      ]
    },
    {
      "cell_type": "markdown",
      "metadata": {
        "id": "cHqMb-_9mv-x",
        "colab_type": "text"
      },
      "source": [
        "When I started learning such tools, I found it refreshing that an abstraction like this makes me not have to program such a calculation in loops. It’s a wonderful abstraction that allows you to think about problems at a higher level.\n",
        "\n",
        "And it’s not only addition that we can do this way:\n",
        "\n",
        "<img src='https://github.com/rahiakela/img-repo/blob/master/numpy-array-subtract-multiply-divide.png?raw=1' width='800'/>"
      ]
    },
    {
      "cell_type": "code",
      "metadata": {
        "id": "Ve5RJCuUd_Ve",
        "colab_type": "code",
        "outputId": "37eeaaf1-2168-4c24-ffdf-df34cea92b8b",
        "colab": {
          "base_uri": "https://localhost:8080/",
          "height": 35
        }
      },
      "source": [
        "data - ones"
      ],
      "execution_count": 8,
      "outputs": [
        {
          "output_type": "execute_result",
          "data": {
            "text/plain": [
              "array([0., 1.])"
            ]
          },
          "metadata": {
            "tags": []
          },
          "execution_count": 8
        }
      ]
    },
    {
      "cell_type": "code",
      "metadata": {
        "id": "gullgyWWm7MK",
        "colab_type": "code",
        "outputId": "4b3ea5e4-6f20-4355-ed51-58839ccf3e48",
        "colab": {
          "base_uri": "https://localhost:8080/",
          "height": 35
        }
      },
      "source": [
        "data * data"
      ],
      "execution_count": 9,
      "outputs": [
        {
          "output_type": "execute_result",
          "data": {
            "text/plain": [
              "array([1, 4])"
            ]
          },
          "metadata": {
            "tags": []
          },
          "execution_count": 9
        }
      ]
    },
    {
      "cell_type": "code",
      "metadata": {
        "id": "LnV1UKhdm9nE",
        "colab_type": "code",
        "outputId": "0d1254cd-b8dd-48e5-96b5-c0cd1b429cc7",
        "colab": {
          "base_uri": "https://localhost:8080/",
          "height": 35
        }
      },
      "source": [
        "data / data"
      ],
      "execution_count": 10,
      "outputs": [
        {
          "output_type": "execute_result",
          "data": {
            "text/plain": [
              "array([1., 1.])"
            ]
          },
          "metadata": {
            "tags": []
          },
          "execution_count": 10
        }
      ]
    },
    {
      "cell_type": "markdown",
      "metadata": {
        "id": "Sfc4lvIwnEGN",
        "colab_type": "text"
      },
      "source": [
        "There are often cases when we want to carry out an operation between an array and a single number (we can also call this an operation between a vector and a scalar). Say, for example, our array represents distance in miles, and we want to convert it to kilometers. We simply say data * 1.6:\n",
        "\n",
        "<img src='https://github.com/rahiakela/img-repo/blob/master/numpy-array-broadcast.png?raw=1' width='800'/>"
      ]
    },
    {
      "cell_type": "code",
      "metadata": {
        "id": "p7I4ySMNnAPp",
        "colab_type": "code",
        "outputId": "fd0e2160-cd0a-43f8-f8d6-514c946f0371",
        "colab": {
          "base_uri": "https://localhost:8080/",
          "height": 35
        }
      },
      "source": [
        "data * 1.6"
      ],
      "execution_count": 11,
      "outputs": [
        {
          "output_type": "execute_result",
          "data": {
            "text/plain": [
              "array([1.6, 3.2])"
            ]
          },
          "metadata": {
            "tags": []
          },
          "execution_count": 11
        }
      ]
    },
    {
      "cell_type": "markdown",
      "metadata": {
        "id": "JZTHnksKnTVs",
        "colab_type": "text"
      },
      "source": [
        "See how NumPy understood that operation to mean that the multiplication should happen with each cell? That concept is called broadcasting, and it’s very useful."
      ]
    },
    {
      "cell_type": "markdown",
      "metadata": {
        "id": "YCgfSBL7nWGq",
        "colab_type": "text"
      },
      "source": [
        "## Indexing"
      ]
    },
    {
      "cell_type": "markdown",
      "metadata": {
        "id": "SXgNl3vCnW2y",
        "colab_type": "text"
      },
      "source": [
        "We can index and slice NumPy arrays in all the ways we can slice python lists:\n",
        "\n",
        "<img src='https://github.com/rahiakela/img-repo/blob/master/numpy-array-slice.png?raw=1' width='800'/>"
      ]
    },
    {
      "cell_type": "code",
      "metadata": {
        "id": "Xblz2R-ZnNub",
        "colab_type": "code",
        "colab": {}
      },
      "source": [
        "data = np.array([1, 2, 3])"
      ],
      "execution_count": 0,
      "outputs": []
    },
    {
      "cell_type": "code",
      "metadata": {
        "id": "BCVzgFd8niUj",
        "colab_type": "code",
        "outputId": "2178a845-7d9b-46e4-e25c-551793a15487",
        "colab": {
          "base_uri": "https://localhost:8080/",
          "height": 35
        }
      },
      "source": [
        "data[0]"
      ],
      "execution_count": 13,
      "outputs": [
        {
          "output_type": "execute_result",
          "data": {
            "text/plain": [
              "1"
            ]
          },
          "metadata": {
            "tags": []
          },
          "execution_count": 13
        }
      ]
    },
    {
      "cell_type": "code",
      "metadata": {
        "id": "aM4XwxMCnjxr",
        "colab_type": "code",
        "outputId": "16ccfda7-edf2-429e-c80a-eaa3d5ac57a2",
        "colab": {
          "base_uri": "https://localhost:8080/",
          "height": 35
        }
      },
      "source": [
        "data[1]"
      ],
      "execution_count": 14,
      "outputs": [
        {
          "output_type": "execute_result",
          "data": {
            "text/plain": [
              "2"
            ]
          },
          "metadata": {
            "tags": []
          },
          "execution_count": 14
        }
      ]
    },
    {
      "cell_type": "code",
      "metadata": {
        "id": "R5b0ij9NnlMW",
        "colab_type": "code",
        "outputId": "b3438499-617e-4673-ab59-c9d5a4344b04",
        "colab": {
          "base_uri": "https://localhost:8080/",
          "height": 35
        }
      },
      "source": [
        "data[0:2]"
      ],
      "execution_count": 15,
      "outputs": [
        {
          "output_type": "execute_result",
          "data": {
            "text/plain": [
              "array([1, 2])"
            ]
          },
          "metadata": {
            "tags": []
          },
          "execution_count": 15
        }
      ]
    },
    {
      "cell_type": "code",
      "metadata": {
        "id": "BJyYC2denpju",
        "colab_type": "code",
        "outputId": "925ddce4-2f6f-4dcc-b73b-1083c117e259",
        "colab": {
          "base_uri": "https://localhost:8080/",
          "height": 35
        }
      },
      "source": [
        "data[1:]"
      ],
      "execution_count": 16,
      "outputs": [
        {
          "output_type": "execute_result",
          "data": {
            "text/plain": [
              "array([2, 3])"
            ]
          },
          "metadata": {
            "tags": []
          },
          "execution_count": 16
        }
      ]
    },
    {
      "cell_type": "markdown",
      "metadata": {
        "id": "9LGi7G0tn-bg",
        "colab_type": "text"
      },
      "source": [
        "## Aggregation"
      ]
    },
    {
      "cell_type": "markdown",
      "metadata": {
        "id": "FqLvdRwAn_kW",
        "colab_type": "text"
      },
      "source": [
        "Additional benefits NumPy gives us are aggregation functions:\n",
        "\n",
        "<img src='https://github.com/rahiakela/img-repo/blob/master/numpy-array-aggregation.png?raw=1' width='800'/>"
      ]
    },
    {
      "cell_type": "code",
      "metadata": {
        "id": "GqYsOSUknrPl",
        "colab_type": "code",
        "outputId": "283e201b-2929-4efa-c2bc-1ffd2156b763",
        "colab": {
          "base_uri": "https://localhost:8080/",
          "height": 35
        }
      },
      "source": [
        "data.max()"
      ],
      "execution_count": 17,
      "outputs": [
        {
          "output_type": "execute_result",
          "data": {
            "text/plain": [
              "3"
            ]
          },
          "metadata": {
            "tags": []
          },
          "execution_count": 17
        }
      ]
    },
    {
      "cell_type": "code",
      "metadata": {
        "id": "gjVXUuScn1Qa",
        "colab_type": "code",
        "outputId": "3625efa7-662c-4e1e-9d63-870c7f166687",
        "colab": {
          "base_uri": "https://localhost:8080/",
          "height": 35
        }
      },
      "source": [
        "data.min()"
      ],
      "execution_count": 18,
      "outputs": [
        {
          "output_type": "execute_result",
          "data": {
            "text/plain": [
              "1"
            ]
          },
          "metadata": {
            "tags": []
          },
          "execution_count": 18
        }
      ]
    },
    {
      "cell_type": "code",
      "metadata": {
        "id": "oDT8xkOPoNCP",
        "colab_type": "code",
        "outputId": "5a41a1b5-1df2-46f5-b7b6-478b8288eb04",
        "colab": {
          "base_uri": "https://localhost:8080/",
          "height": 35
        }
      },
      "source": [
        "data.sum()"
      ],
      "execution_count": 19,
      "outputs": [
        {
          "output_type": "execute_result",
          "data": {
            "text/plain": [
              "6"
            ]
          },
          "metadata": {
            "tags": []
          },
          "execution_count": 19
        }
      ]
    },
    {
      "cell_type": "markdown",
      "metadata": {
        "id": "WG34jBWboT9Q",
        "colab_type": "text"
      },
      "source": [
        "In addition to min, max, and sum, you get all the greats like mean to get the average, prod to get the result of multiplying all the elements together, std to get standard deviation, and [plenty of others](https://jakevdp.github.io/PythonDataScienceHandbook/02.04-computation-on-arrays-aggregates.html)."
      ]
    },
    {
      "cell_type": "markdown",
      "metadata": {
        "id": "78_3pa4toir1",
        "colab_type": "text"
      },
      "source": [
        "## In more dimensions"
      ]
    },
    {
      "cell_type": "markdown",
      "metadata": {
        "id": "Y1DfUPSfojkx",
        "colab_type": "text"
      },
      "source": [
        "All the examples we’ve looked at deal with vectors in one dimension. A key part of the beauty of NumPy is its ability to apply everything we’ve looked at so far to any number of dimensions."
      ]
    },
    {
      "cell_type": "markdown",
      "metadata": {
        "id": "hzetDFx7ooJ6",
        "colab_type": "text"
      },
      "source": [
        "## Creating Matrices"
      ]
    },
    {
      "cell_type": "markdown",
      "metadata": {
        "id": "0gplbz8MorNQ",
        "colab_type": "text"
      },
      "source": [
        "We can pass python lists of lists in the following shape to have NumPy create a matrix to represent them:"
      ]
    },
    {
      "cell_type": "code",
      "metadata": {
        "id": "Rb0Py3TroOzz",
        "colab_type": "code",
        "colab": {
          "base_uri": "https://localhost:8080/",
          "height": 52
        },
        "outputId": "eb79d8df-4d6b-4856-e28a-de6a25a02ddd"
      },
      "source": [
        "np.array([\n",
        "   [1, 2],\n",
        "   [3, 4]       \n",
        "])"
      ],
      "execution_count": 20,
      "outputs": [
        {
          "output_type": "execute_result",
          "data": {
            "text/plain": [
              "array([[1, 2],\n",
              "       [3, 4]])"
            ]
          },
          "metadata": {
            "tags": []
          },
          "execution_count": 20
        }
      ]
    },
    {
      "cell_type": "markdown",
      "metadata": {
        "id": "Zh3vJwllNjc3",
        "colab_type": "text"
      },
      "source": [
        "<img src='https://github.com/rahiakela/img-repo/blob/master/numpy-array-create-2d.png?raw=1' width='800'/>\n",
        "\n",
        "We can also use the same methods we mentioned above (ones(), zeros(), and random.random()) as long as we give them a tuple describing the dimensions of the matrix we are creating:\n",
        "\n",
        "<img src='https://github.com/rahiakela/img-repo/blob/master/numpy-matrix-ones-zeros-random.png?raw=1' width='800'/>\n"
      ]
    },
    {
      "cell_type": "code",
      "metadata": {
        "id": "8sSltgWOO9vF",
        "colab_type": "code",
        "colab": {
          "base_uri": "https://localhost:8080/",
          "height": 70
        },
        "outputId": "f6a40985-b5ae-4f2c-fb32-3972dc70409e"
      },
      "source": [
        "np.ones((3, 2))"
      ],
      "execution_count": 21,
      "outputs": [
        {
          "output_type": "execute_result",
          "data": {
            "text/plain": [
              "array([[1., 1.],\n",
              "       [1., 1.],\n",
              "       [1., 1.]])"
            ]
          },
          "metadata": {
            "tags": []
          },
          "execution_count": 21
        }
      ]
    },
    {
      "cell_type": "code",
      "metadata": {
        "id": "VaJ5nHlLPChC",
        "colab_type": "code",
        "colab": {
          "base_uri": "https://localhost:8080/",
          "height": 70
        },
        "outputId": "9057daf0-2d16-4a50-d9bc-39bc1794f927"
      },
      "source": [
        "np.zeros((3, 2))"
      ],
      "execution_count": 22,
      "outputs": [
        {
          "output_type": "execute_result",
          "data": {
            "text/plain": [
              "array([[0., 0.],\n",
              "       [0., 0.],\n",
              "       [0., 0.]])"
            ]
          },
          "metadata": {
            "tags": []
          },
          "execution_count": 22
        }
      ]
    },
    {
      "cell_type": "code",
      "metadata": {
        "id": "fQzqtcB-PFAE",
        "colab_type": "code",
        "colab": {
          "base_uri": "https://localhost:8080/",
          "height": 70
        },
        "outputId": "5f13698a-dae0-43d1-a132-3617103c58af"
      },
      "source": [
        "np.random.random((3, 2))"
      ],
      "execution_count": 23,
      "outputs": [
        {
          "output_type": "execute_result",
          "data": {
            "text/plain": [
              "array([[0.86072169, 0.08090688],\n",
              "       [0.55961832, 0.92546295],\n",
              "       [0.28437754, 0.9926446 ]])"
            ]
          },
          "metadata": {
            "tags": []
          },
          "execution_count": 23
        }
      ]
    },
    {
      "cell_type": "markdown",
      "metadata": {
        "id": "T2iMsPAzPKAc",
        "colab_type": "text"
      },
      "source": [
        "### Matrix Arithmetic"
      ]
    },
    {
      "cell_type": "markdown",
      "metadata": {
        "id": "NOFZPFS_POac",
        "colab_type": "text"
      },
      "source": [
        "We can add and multiply matrices using arithmetic operators (+-*/) if the two matrices are the same size. NumPy handles those as position-wise operations:\n",
        "\n",
        "<img src='https://github.com/rahiakela/img-repo/blob/master/numpy-matrix-arithmetic.png?raw=1' width='800'/>"
      ]
    },
    {
      "cell_type": "code",
      "metadata": {
        "id": "V3vKb43NPI92",
        "colab_type": "code",
        "colab": {
          "base_uri": "https://localhost:8080/",
          "height": 52
        },
        "outputId": "bcfdbea3-a161-47e3-ad4d-ff29294f4845"
      },
      "source": [
        "data = np.array([\n",
        "   [1, 2],\n",
        "   [3, 4]              \n",
        "])\n",
        "\n",
        "data + ones"
      ],
      "execution_count": 24,
      "outputs": [
        {
          "output_type": "execute_result",
          "data": {
            "text/plain": [
              "array([[2., 3.],\n",
              "       [4., 5.]])"
            ]
          },
          "metadata": {
            "tags": []
          },
          "execution_count": 24
        }
      ]
    },
    {
      "cell_type": "markdown",
      "metadata": {
        "id": "yBccRDoTRIkc",
        "colab_type": "text"
      },
      "source": [
        "We can get away with doing these arithmetic operations on matrices of different size only if the different dimension is one (e.g. the matrix has only one column or one row), in which case NumPy uses its broadcast rules for that operation:\n",
        "\n",
        "<img src='https://github.com/rahiakela/img-repo/blob/master/numpy-matrix-broadcast.png?raw=1' width='800'/>"
      ]
    },
    {
      "cell_type": "code",
      "metadata": {
        "id": "JtIhDXoHPtdj",
        "colab_type": "code",
        "colab": {
          "base_uri": "https://localhost:8080/",
          "height": 70
        },
        "outputId": "b5fe86d3-8a5c-4a24-d244-92378f9a8a62"
      },
      "source": [
        "data = np.array([\n",
        "   [1, 2],\n",
        "   [3, 4],\n",
        "   [5, 6]              \n",
        "])\n",
        "\n",
        "ones_row = np.ones((1, 2))\n",
        "\n",
        "data + ones_row"
      ],
      "execution_count": 25,
      "outputs": [
        {
          "output_type": "execute_result",
          "data": {
            "text/plain": [
              "array([[2., 3.],\n",
              "       [4., 5.],\n",
              "       [6., 7.]])"
            ]
          },
          "metadata": {
            "tags": []
          },
          "execution_count": 25
        }
      ]
    },
    {
      "cell_type": "markdown",
      "metadata": {
        "id": "ZZ2Iad78SLNh",
        "colab_type": "text"
      },
      "source": [
        "### Dot Product"
      ]
    },
    {
      "cell_type": "markdown",
      "metadata": {
        "id": "8KqWpgkDSMIP",
        "colab_type": "text"
      },
      "source": [
        "A key distinction to make with arithmetic is the case of [matrix multiplication](https://www.mathsisfun.com/algebra/matrix-multiplying.html) using the dot product. NumPy gives every matrix a dot() method we can use to carry-out dot product operations with other matrices:\n",
        "\n",
        "<img src='https://github.com/rahiakela/img-repo/blob/master/numpy-matrix-dot-product-1.png?raw=1' width='800'/>\n"
      ]
    },
    {
      "cell_type": "code",
      "metadata": {
        "id": "y85HhF_oRfga",
        "colab_type": "code",
        "colab": {}
      },
      "source": [
        ""
      ],
      "execution_count": 0,
      "outputs": []
    }
  ]
}