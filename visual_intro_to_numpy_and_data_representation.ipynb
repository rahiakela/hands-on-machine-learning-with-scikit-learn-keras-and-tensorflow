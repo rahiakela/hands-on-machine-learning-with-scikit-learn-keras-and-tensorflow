{
  "nbformat": 4,
  "nbformat_minor": 0,
  "metadata": {
    "colab": {
      "name": "visual-intro-to-numpy-and-data-representation.ipynb",
      "provenance": [],
      "authorship_tag": "ABX9TyP+hhAuCtdwjfnwsqrDr/Js",
      "include_colab_link": true
    },
    "kernelspec": {
      "name": "python3",
      "display_name": "Python 3"
    }
  },
  "cells": [
    {
      "cell_type": "markdown",
      "metadata": {
        "id": "view-in-github",
        "colab_type": "text"
      },
      "source": [
        "<a href=\"https://colab.research.google.com/github/rahiakela/hands-on-machine-learning-with-scikit-learn-keras-and-tensorflow/blob/0-math-numpy-pandas-matplotlib-guide/visual_intro_to_numpy_and_data_representation.ipynb\" target=\"_parent\"><img src=\"https://colab.research.google.com/assets/colab-badge.svg\" alt=\"Open In Colab\"/></a>"
      ]
    },
    {
      "cell_type": "markdown",
      "metadata": {
        "id": "6b417rpiaxRy",
        "colab_type": "text"
      },
      "source": [
        "# A Visual Intro to NumPy and Data Representation"
      ]
    },
    {
      "cell_type": "markdown",
      "metadata": {
        "id": "uun1ZIJta8ZR",
        "colab_type": "text"
      },
      "source": [
        "Reference: [A Visual Intro to NumPy and Data Representation](https://jalammar.github.io/visual-numpy/)\n",
        "\n",
        "<img src='https://github.com/rahiakela/img-repo/blob/master/numpy-array.png?raw=1' width='800'/>\n",
        "\n",
        "The [NumPy package](https://numpy.org/) is the workhorse of data analysis, machine learning, and scientific computing in the python ecosystem. It vastly simplifies manipulating and crunching vectors and matrices. Some of python’s leading package rely on NumPy as a fundamental piece of their infrastructure (examples include scikit-learn, SciPy, pandas, and tensorflow). Beyond the ability to slice and dice numeric data, mastering numpy will give you an edge when dealing and debugging with advanced usecases in these libraries.\n",
        "\n",
        "In this post, we’ll look at some of the main ways to use NumPy and how it can represent different types of data (tables, images, text…etc) before we can serve them to machine learning models.\n"
      ]
    },
    {
      "cell_type": "code",
      "metadata": {
        "id": "x-5m7Y-dcPdi",
        "colab_type": "code",
        "colab": {}
      },
      "source": [
        "import numpy as np"
      ],
      "execution_count": 0,
      "outputs": []
    },
    {
      "cell_type": "markdown",
      "metadata": {
        "id": "FnZd9oLIcYmH",
        "colab_type": "text"
      },
      "source": [
        "## Creating Arrays"
      ]
    },
    {
      "cell_type": "markdown",
      "metadata": {
        "id": "l8FC4BqycZa6",
        "colab_type": "text"
      },
      "source": [
        "We can create a NumPy array (a.k.a. the mighty [ndarray](https://docs.scipy.org/doc/numpy/reference/arrays.ndarray.html)) by passing a python list to it and using ` np.array()`. In this case, python creates the array we can see on the right here:\n",
        "\n",
        "<img src='https://github.com/rahiakela/img-repo/blob/master/create-numpy-array-1.png?raw=1' width='800'/>\n",
        "\n"
      ]
    },
    {
      "cell_type": "code",
      "metadata": {
        "id": "JwLDT0bTcUPj",
        "colab_type": "code",
        "colab": {
          "base_uri": "https://localhost:8080/",
          "height": 35
        },
        "outputId": "dc0dab54-e24c-4778-a7f5-45c3b7457395"
      },
      "source": [
        "np.array([1, 2, 3])"
      ],
      "execution_count": 2,
      "outputs": [
        {
          "output_type": "execute_result",
          "data": {
            "text/plain": [
              "array([1, 2, 3])"
            ]
          },
          "metadata": {
            "tags": []
          },
          "execution_count": 2
        }
      ]
    },
    {
      "cell_type": "markdown",
      "metadata": {
        "id": "5W5_bOmDc3Uq",
        "colab_type": "text"
      },
      "source": [
        "There are often cases when we want NumPy to initialize the values of the array for us. NumPy provides methods like ones(), zeros(), and random.random() for these cases. We just pass them the number of elements we want it to generate:\n",
        "\n",
        "<img src='https://github.com/rahiakela/img-repo/blob/master/create-numpy-array-ones-zeros-random.png?raw=1' width='800'/>"
      ]
    },
    {
      "cell_type": "code",
      "metadata": {
        "id": "wnXW6O65cyhD",
        "colab_type": "code",
        "colab": {
          "base_uri": "https://localhost:8080/",
          "height": 35
        },
        "outputId": "473d9d4e-9ce6-4e8c-f5d2-d7c3055683c4"
      },
      "source": [
        "np.ones(3)"
      ],
      "execution_count": 3,
      "outputs": [
        {
          "output_type": "execute_result",
          "data": {
            "text/plain": [
              "array([1., 1., 1.])"
            ]
          },
          "metadata": {
            "tags": []
          },
          "execution_count": 3
        }
      ]
    },
    {
      "cell_type": "code",
      "metadata": {
        "id": "8xDcDSTAdIYU",
        "colab_type": "code",
        "colab": {
          "base_uri": "https://localhost:8080/",
          "height": 35
        },
        "outputId": "f01a68fe-a190-43bc-ed58-6c6903eba58c"
      },
      "source": [
        "np.zeros(3)"
      ],
      "execution_count": 4,
      "outputs": [
        {
          "output_type": "execute_result",
          "data": {
            "text/plain": [
              "array([0., 0., 0.])"
            ]
          },
          "metadata": {
            "tags": []
          },
          "execution_count": 4
        }
      ]
    },
    {
      "cell_type": "code",
      "metadata": {
        "id": "ZD2uO_cfdK16",
        "colab_type": "code",
        "colab": {
          "base_uri": "https://localhost:8080/",
          "height": 35
        },
        "outputId": "0788a5aa-4d4b-4b19-ac5b-f5059e110091"
      },
      "source": [
        "np.random.random(3)"
      ],
      "execution_count": 5,
      "outputs": [
        {
          "output_type": "execute_result",
          "data": {
            "text/plain": [
              "array([0.84022271, 0.66445163, 0.37031676])"
            ]
          },
          "metadata": {
            "tags": []
          },
          "execution_count": 5
        }
      ]
    },
    {
      "cell_type": "markdown",
      "metadata": {
        "id": "k1r3zMFAdRc5",
        "colab_type": "text"
      },
      "source": [
        "Once we’ve created our arrays, we can start to manipulate them in interesting ways."
      ]
    },
    {
      "cell_type": "markdown",
      "metadata": {
        "id": "oG9oQhR7dTfq",
        "colab_type": "text"
      },
      "source": [
        "## Array Arithmetic"
      ]
    },
    {
      "cell_type": "markdown",
      "metadata": {
        "id": "S5eI1QBAdUZo",
        "colab_type": "text"
      },
      "source": [
        "Let’s create two NumPy arrays to showcase their usefulness. We’ll call them data and ones:\n",
        "\n",
        "<img src='https://github.com/rahiakela/img-repo/blob/master/numpy-arrays-example-1.png?raw=1' width='800'/>\n"
      ]
    },
    {
      "cell_type": "code",
      "metadata": {
        "id": "5Q5EVEC7dOh0",
        "colab_type": "code",
        "colab": {}
      },
      "source": [
        "data = np.array([1, 2])\n",
        "ones = np.ones(2)"
      ],
      "execution_count": 0,
      "outputs": []
    },
    {
      "cell_type": "markdown",
      "metadata": {
        "id": "TzzMGsHvdzxq",
        "colab_type": "text"
      },
      "source": [
        "Adding them up position-wise (i.e. adding the values of each row) is as simple as typing data + ones:\n",
        "\n",
        "<img src='https://github.com/rahiakela/img-repo/blob/master/numpy-arrays-adding-1.png?raw=1' width='800'/>"
      ]
    },
    {
      "cell_type": "code",
      "metadata": {
        "id": "4b_yL6bzdw79",
        "colab_type": "code",
        "colab": {
          "base_uri": "https://localhost:8080/",
          "height": 35
        },
        "outputId": "57bbead6-14d7-4205-eba3-7e896d245418"
      },
      "source": [
        "data + ones"
      ],
      "execution_count": 7,
      "outputs": [
        {
          "output_type": "execute_result",
          "data": {
            "text/plain": [
              "array([2., 3.])"
            ]
          },
          "metadata": {
            "tags": []
          },
          "execution_count": 7
        }
      ]
    },
    {
      "cell_type": "markdown",
      "metadata": {
        "id": "cHqMb-_9mv-x",
        "colab_type": "text"
      },
      "source": [
        "When I started learning such tools, I found it refreshing that an abstraction like this makes me not have to program such a calculation in loops. It’s a wonderful abstraction that allows you to think about problems at a higher level.\n",
        "\n",
        "And it’s not only addition that we can do this way:\n",
        "\n",
        "<img src='https://github.com/rahiakela/img-repo/blob/master/numpy-array-subtract-multiply-divide.png?raw=1' width='800'/>"
      ]
    },
    {
      "cell_type": "code",
      "metadata": {
        "id": "Ve5RJCuUd_Ve",
        "colab_type": "code",
        "colab": {
          "base_uri": "https://localhost:8080/",
          "height": 35
        },
        "outputId": "26c387a5-1fd1-4e0d-fbe7-796af7b25ede"
      },
      "source": [
        "data - ones"
      ],
      "execution_count": 8,
      "outputs": [
        {
          "output_type": "execute_result",
          "data": {
            "text/plain": [
              "array([0., 1.])"
            ]
          },
          "metadata": {
            "tags": []
          },
          "execution_count": 8
        }
      ]
    },
    {
      "cell_type": "code",
      "metadata": {
        "id": "gullgyWWm7MK",
        "colab_type": "code",
        "colab": {
          "base_uri": "https://localhost:8080/",
          "height": 35
        },
        "outputId": "31aac520-9667-4c24-ee65-06b342892573"
      },
      "source": [
        "data * data"
      ],
      "execution_count": 9,
      "outputs": [
        {
          "output_type": "execute_result",
          "data": {
            "text/plain": [
              "array([1, 4])"
            ]
          },
          "metadata": {
            "tags": []
          },
          "execution_count": 9
        }
      ]
    },
    {
      "cell_type": "code",
      "metadata": {
        "id": "LnV1UKhdm9nE",
        "colab_type": "code",
        "colab": {
          "base_uri": "https://localhost:8080/",
          "height": 35
        },
        "outputId": "f83bda42-f254-4a7a-808d-3a7137d0fcfe"
      },
      "source": [
        "data / data"
      ],
      "execution_count": 10,
      "outputs": [
        {
          "output_type": "execute_result",
          "data": {
            "text/plain": [
              "array([1., 1.])"
            ]
          },
          "metadata": {
            "tags": []
          },
          "execution_count": 10
        }
      ]
    },
    {
      "cell_type": "markdown",
      "metadata": {
        "id": "Sfc4lvIwnEGN",
        "colab_type": "text"
      },
      "source": [
        "There are often cases when we want to carry out an operation between an array and a single number (we can also call this an operation between a vector and a scalar). Say, for example, our array represents distance in miles, and we want to convert it to kilometers. We simply say data * 1.6:\n",
        "\n",
        "<img src='https://github.com/rahiakela/img-repo/blob/master/numpy-array-broadcast.png?raw=1' width='800'/>"
      ]
    },
    {
      "cell_type": "code",
      "metadata": {
        "id": "p7I4ySMNnAPp",
        "colab_type": "code",
        "colab": {
          "base_uri": "https://localhost:8080/",
          "height": 35
        },
        "outputId": "7d5f8586-8ac6-482b-e1b3-b9e4b781d691"
      },
      "source": [
        "data * 1.6"
      ],
      "execution_count": 11,
      "outputs": [
        {
          "output_type": "execute_result",
          "data": {
            "text/plain": [
              "array([1.6, 3.2])"
            ]
          },
          "metadata": {
            "tags": []
          },
          "execution_count": 11
        }
      ]
    },
    {
      "cell_type": "markdown",
      "metadata": {
        "id": "JZTHnksKnTVs",
        "colab_type": "text"
      },
      "source": [
        "See how NumPy understood that operation to mean that the multiplication should happen with each cell? That concept is called broadcasting, and it’s very useful."
      ]
    },
    {
      "cell_type": "markdown",
      "metadata": {
        "id": "YCgfSBL7nWGq",
        "colab_type": "text"
      },
      "source": [
        "## Indexing"
      ]
    },
    {
      "cell_type": "markdown",
      "metadata": {
        "id": "SXgNl3vCnW2y",
        "colab_type": "text"
      },
      "source": [
        "We can index and slice NumPy arrays in all the ways we can slice python lists:\n",
        "\n",
        "<img src='https://github.com/rahiakela/img-repo/blob/master/numpy-array-slice.png?raw=1' width='800'/>"
      ]
    },
    {
      "cell_type": "code",
      "metadata": {
        "id": "Xblz2R-ZnNub",
        "colab_type": "code",
        "colab": {}
      },
      "source": [
        "data = np.array([1, 2, 3])"
      ],
      "execution_count": 0,
      "outputs": []
    },
    {
      "cell_type": "code",
      "metadata": {
        "id": "BCVzgFd8niUj",
        "colab_type": "code",
        "colab": {
          "base_uri": "https://localhost:8080/",
          "height": 35
        },
        "outputId": "52a045ed-3075-41d8-c906-22b4c6d6d6d7"
      },
      "source": [
        "data[0]"
      ],
      "execution_count": 21,
      "outputs": [
        {
          "output_type": "execute_result",
          "data": {
            "text/plain": [
              "1"
            ]
          },
          "metadata": {
            "tags": []
          },
          "execution_count": 21
        }
      ]
    },
    {
      "cell_type": "code",
      "metadata": {
        "id": "aM4XwxMCnjxr",
        "colab_type": "code",
        "colab": {
          "base_uri": "https://localhost:8080/",
          "height": 35
        },
        "outputId": "10839317-0736-4c7a-8fa1-d07a918558a6"
      },
      "source": [
        "data[1]"
      ],
      "execution_count": 22,
      "outputs": [
        {
          "output_type": "execute_result",
          "data": {
            "text/plain": [
              "2"
            ]
          },
          "metadata": {
            "tags": []
          },
          "execution_count": 22
        }
      ]
    },
    {
      "cell_type": "code",
      "metadata": {
        "id": "R5b0ij9NnlMW",
        "colab_type": "code",
        "colab": {
          "base_uri": "https://localhost:8080/",
          "height": 35
        },
        "outputId": "763ba2be-c921-4731-84e6-a454e2d875b8"
      },
      "source": [
        "data[0:2]"
      ],
      "execution_count": 23,
      "outputs": [
        {
          "output_type": "execute_result",
          "data": {
            "text/plain": [
              "array([1, 2])"
            ]
          },
          "metadata": {
            "tags": []
          },
          "execution_count": 23
        }
      ]
    },
    {
      "cell_type": "code",
      "metadata": {
        "id": "BJyYC2denpju",
        "colab_type": "code",
        "colab": {
          "base_uri": "https://localhost:8080/",
          "height": 35
        },
        "outputId": "82db36f0-f7ca-4794-8216-0d8813eb8506"
      },
      "source": [
        "data[1:]"
      ],
      "execution_count": 24,
      "outputs": [
        {
          "output_type": "execute_result",
          "data": {
            "text/plain": [
              "array([2, 3])"
            ]
          },
          "metadata": {
            "tags": []
          },
          "execution_count": 24
        }
      ]
    },
    {
      "cell_type": "markdown",
      "metadata": {
        "id": "9LGi7G0tn-bg",
        "colab_type": "text"
      },
      "source": [
        "## Aggregation"
      ]
    },
    {
      "cell_type": "markdown",
      "metadata": {
        "id": "FqLvdRwAn_kW",
        "colab_type": "text"
      },
      "source": [
        "Additional benefits NumPy gives us are aggregation functions:\n",
        "\n",
        "<img src='https://github.com/rahiakela/img-repo/blob/master/numpy-array-aggregation.png?raw=1' width='800'/>"
      ]
    },
    {
      "cell_type": "code",
      "metadata": {
        "id": "GqYsOSUknrPl",
        "colab_type": "code",
        "colab": {
          "base_uri": "https://localhost:8080/",
          "height": 35
        },
        "outputId": "03729501-6615-4b4b-ddff-8abc6f5476b8"
      },
      "source": [
        "data.max()"
      ],
      "execution_count": 25,
      "outputs": [
        {
          "output_type": "execute_result",
          "data": {
            "text/plain": [
              "3"
            ]
          },
          "metadata": {
            "tags": []
          },
          "execution_count": 25
        }
      ]
    },
    {
      "cell_type": "code",
      "metadata": {
        "id": "gjVXUuScn1Qa",
        "colab_type": "code",
        "colab": {
          "base_uri": "https://localhost:8080/",
          "height": 35
        },
        "outputId": "5fde4aa1-4ed4-49a1-acd3-3ab9e7d6fdd4"
      },
      "source": [
        "data.min()"
      ],
      "execution_count": 26,
      "outputs": [
        {
          "output_type": "execute_result",
          "data": {
            "text/plain": [
              "1"
            ]
          },
          "metadata": {
            "tags": []
          },
          "execution_count": 26
        }
      ]
    },
    {
      "cell_type": "code",
      "metadata": {
        "id": "oDT8xkOPoNCP",
        "colab_type": "code",
        "colab": {
          "base_uri": "https://localhost:8080/",
          "height": 35
        },
        "outputId": "ab9da0d7-0070-4ba5-ae4e-cd2f845cda8b"
      },
      "source": [
        "data.sum()"
      ],
      "execution_count": 27,
      "outputs": [
        {
          "output_type": "execute_result",
          "data": {
            "text/plain": [
              "6"
            ]
          },
          "metadata": {
            "tags": []
          },
          "execution_count": 27
        }
      ]
    },
    {
      "cell_type": "markdown",
      "metadata": {
        "id": "WG34jBWboT9Q",
        "colab_type": "text"
      },
      "source": [
        "In addition to min, max, and sum, you get all the greats like mean to get the average, prod to get the result of multiplying all the elements together, std to get standard deviation, and [plenty of others](https://jakevdp.github.io/PythonDataScienceHandbook/02.04-computation-on-arrays-aggregates.html)."
      ]
    },
    {
      "cell_type": "markdown",
      "metadata": {
        "id": "78_3pa4toir1",
        "colab_type": "text"
      },
      "source": [
        "## In more dimensions"
      ]
    },
    {
      "cell_type": "markdown",
      "metadata": {
        "id": "Y1DfUPSfojkx",
        "colab_type": "text"
      },
      "source": [
        "All the examples we’ve looked at deal with vectors in one dimension. A key part of the beauty of NumPy is its ability to apply everything we’ve looked at so far to any number of dimensions."
      ]
    },
    {
      "cell_type": "markdown",
      "metadata": {
        "id": "hzetDFx7ooJ6",
        "colab_type": "text"
      },
      "source": [
        "## Creating Matrices"
      ]
    },
    {
      "cell_type": "markdown",
      "metadata": {
        "id": "0gplbz8MorNQ",
        "colab_type": "text"
      },
      "source": [
        ""
      ]
    },
    {
      "cell_type": "code",
      "metadata": {
        "id": "Rb0Py3TroOzz",
        "colab_type": "code",
        "colab": {}
      },
      "source": [
        ""
      ],
      "execution_count": 0,
      "outputs": []
    }
  ]
}