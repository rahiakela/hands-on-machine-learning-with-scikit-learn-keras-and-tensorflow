{
  "nbformat": 4,
  "nbformat_minor": 0,
  "metadata": {
    "colab": {
      "name": "math_linear_algebra.ipynb",
      "provenance": [],
      "toc_visible": true,
      "authorship_tag": "ABX9TyNOesMPbVhl4jSDt9WpqfMq",
      "include_colab_link": true
    },
    "kernelspec": {
      "name": "python3",
      "display_name": "Python 3"
    }
  },
  "cells": [
    {
      "cell_type": "markdown",
      "metadata": {
        "id": "view-in-github",
        "colab_type": "text"
      },
      "source": [
        "<a href=\"https://colab.research.google.com/github/rahiakela/hands-on-machine-learning-with-scikit-learn-keras-and-tensorflow/blob/0-math-numpy-pandas-matplotlib-guide/math_linear_algebra.ipynb\" target=\"_parent\"><img src=\"https://colab.research.google.com/assets/colab-badge.svg\" alt=\"Open In Colab\"/></a>"
      ]
    },
    {
      "cell_type": "markdown",
      "metadata": {
        "id": "VymMf809i6rQ",
        "colab_type": "text"
      },
      "source": [
        "# Linear Algebra"
      ]
    },
    {
      "cell_type": "markdown",
      "metadata": {
        "id": "mTcOvL_Ei-VW",
        "colab_type": "text"
      },
      "source": [
        "Linear Algebra is the branch of mathematics that studies vector spaces and linear transformations between vector spaces, such as rotating a shape, scaling it up or down, translating it (ie. moving it), etc.\n",
        "\n",
        "Machine Learning relies heavily on Linear Algebra, so it is essential to understand what vectors and matrices are, what operations you can perform with them, and how they can be useful."
      ]
    },
    {
      "cell_type": "markdown",
      "metadata": {
        "id": "zQoAQ48zjEif",
        "colab_type": "text"
      },
      "source": [
        "## Setup"
      ]
    },
    {
      "cell_type": "code",
      "metadata": {
        "id": "0MiuZ6QZjGS0",
        "colab_type": "code",
        "colab": {}
      },
      "source": [
        "# Python ≥3.5 is required\n",
        "import sys\n",
        "assert sys.version_info >= (3, 5)\n",
        "\n",
        "import numpy as np\n",
        "import numpy.linalg as LA\n",
        "\n",
        "\n",
        "%matplotlib inline\n",
        "import matplotlib.pyplot as plt\n",
        "from mpl_toolkits.mplot3d import Axes3D"
      ],
      "execution_count": 0,
      "outputs": []
    },
    {
      "cell_type": "markdown",
      "metadata": {
        "id": "yS4iaL0sjGi-",
        "colab_type": "text"
      },
      "source": [
        "## Vectors"
      ]
    },
    {
      "cell_type": "markdown",
      "metadata": {
        "id": "owxivb_3jHgi",
        "colab_type": "text"
      },
      "source": [
        "### Definition"
      ]
    },
    {
      "cell_type": "markdown",
      "metadata": {
        "id": "fBomEhFpkIZH",
        "colab_type": "text"
      },
      "source": [
        "A vector is a quantity defined by a magnitude and a direction. For example, a rocket's velocity is a 3-dimensional vector: its magnitude is the speed of the rocket, and its direction is (hopefully) up. A vector can be represented by an array of numbers called *scalars*. Each scalar corresponds to the magnitude of the vector with regards to each dimension.\n",
        "\n",
        "For example, say the rocket is going up at a slight angle: it has a vertical speed of 5,000 m/s, and also a slight speed towards the East at 10 m/s, and a slight speed towards the North at 50 m/s. The rocket's velocity may be represented by the following vector:\n",
        "\n",
        "**velocity** $= \\begin{pmatrix}\n",
        "10 \\\\\n",
        "50 \\\\\n",
        "5000 \\\\\n",
        "\\end{pmatrix}$\n",
        "\n",
        "Note: by convention vectors are generally presented in the form of columns. Also, vector names are generally lowercase to distinguish them from matrices (which we will discuss below) and in bold (when possible) to distinguish them from simple scalar values such as ${meters\\_per\\_second} = 5026$.\n",
        "\n",
        "A list of N numbers may also represent the coordinates of a point in an N-dimensional space, so it is quite frequent to represent vectors as simple points instead of arrows. A vector with 1 element may be represented as an arrow or a point on an axis, a vector with 2 elements is an arrow or a point on a plane, a vector with 3 elements is an arrow or point in space, and a vector with N elements is an arrow or a point in an N-dimensional space… which most people find hard to imagine.\n",
        "\n",
        "Reference: https://www.mathsisfun.com/algebra/vectors.html"
      ]
    },
    {
      "cell_type": "markdown",
      "metadata": {
        "id": "ET3lfyCelJtY",
        "colab_type": "text"
      },
      "source": [
        "### Purpose"
      ]
    },
    {
      "cell_type": "markdown",
      "metadata": {
        "id": "6RnXr1tFmYGl",
        "colab_type": "text"
      },
      "source": [
        "Vectors have many purposes in Machine Learning, most notably to represent observations and predictions. For example, say we built a Machine Learning system to classify videos into 3 categories (good, spam, clickbait) based on what we know about them. For each video, we would have a vector representing what we know about it, such as:\n",
        "\n",
        "**video** $= \\begin{pmatrix}\n",
        "10.5 \\\\\n",
        "5.2 \\\\\n",
        "3.25 \\\\\n",
        "7.0\n",
        "\\end{pmatrix}$\n",
        "\n",
        "This vector could represent a video that lasts 10.5 minutes, but only 5.2% viewers watch for more than a minute, it gets 3.25 views per day on average, and it was flagged 7 times as spam. As you can see, each axis may have a different meaning.\n",
        "\n",
        "Based on this vector our Machine Learning system may predict that there is an 80% probability that it is a spam video, 18% that it is clickbait, and 2% that it is a good video. This could be represented as the following vector:\n",
        "\n",
        "**class_probabilities** $= \\begin{pmatrix}\n",
        "0.80 \\\\\n",
        "0.18 \\\\\n",
        "0.02\n",
        "\\end{pmatrix}$"
      ]
    },
    {
      "cell_type": "markdown",
      "metadata": {
        "id": "62EmmGwSmdSM",
        "colab_type": "text"
      },
      "source": [
        "### Vectors in python"
      ]
    },
    {
      "cell_type": "markdown",
      "metadata": {
        "id": "YTuLqXFMmhYz",
        "colab_type": "text"
      },
      "source": [
        "In python, a vector can be represented in many ways, the simplest being a regular python list of numbers:"
      ]
    },
    {
      "cell_type": "code",
      "metadata": {
        "id": "2HwhUXNtmzsI",
        "colab_type": "code",
        "outputId": "7be3482a-ce6f-4db4-ff60-e2b899cbb852",
        "colab": {
          "base_uri": "https://localhost:8080/",
          "height": 34
        }
      },
      "source": [
        "[10.5, 5.2, 3.25, 7.0]"
      ],
      "execution_count": 2,
      "outputs": [
        {
          "output_type": "execute_result",
          "data": {
            "text/plain": [
              "[10.5, 5.2, 3.25, 7.0]"
            ]
          },
          "metadata": {
            "tags": []
          },
          "execution_count": 2
        }
      ]
    },
    {
      "cell_type": "markdown",
      "metadata": {
        "id": "P_YI8rwDnAez",
        "colab_type": "text"
      },
      "source": [
        "Since we plan to do quite a lot of scientific calculations, it is much better to use NumPy's ndarray, which provides a lot of convenient and optimized implementations of essential mathematical operations on vectors (for more details about NumPy, check out [the NumPy tutorial](https://github.com/ageron/handson-ml2/blob/master/tools_numpy.ipynb)). \n",
        "\n",
        "For example:"
      ]
    },
    {
      "cell_type": "code",
      "metadata": {
        "id": "NS_tM9-Ym2Ex",
        "colab_type": "code",
        "outputId": "3dfb8ffe-d70f-43f2-b07e-5fcfe4a46c8c",
        "colab": {
          "base_uri": "https://localhost:8080/",
          "height": 34
        }
      },
      "source": [
        "video = np.array([10.5, 5.2, 3.25, 7.0])\n",
        "video"
      ],
      "execution_count": 3,
      "outputs": [
        {
          "output_type": "execute_result",
          "data": {
            "text/plain": [
              "array([10.5 ,  5.2 ,  3.25,  7.  ])"
            ]
          },
          "metadata": {
            "tags": []
          },
          "execution_count": 3
        }
      ]
    },
    {
      "cell_type": "markdown",
      "metadata": {
        "id": "1LjOx5jzno-0",
        "colab_type": "text"
      },
      "source": [
        "The size of a vector can be obtained using the size attribute:"
      ]
    },
    {
      "cell_type": "code",
      "metadata": {
        "id": "hSq_Mt_Gnj6l",
        "colab_type": "code",
        "outputId": "53dd1284-59bd-4284-98a4-2fe62aa9bc10",
        "colab": {
          "base_uri": "https://localhost:8080/",
          "height": 34
        }
      },
      "source": [
        "video.size"
      ],
      "execution_count": 4,
      "outputs": [
        {
          "output_type": "execute_result",
          "data": {
            "text/plain": [
              "4"
            ]
          },
          "metadata": {
            "tags": []
          },
          "execution_count": 4
        }
      ]
    },
    {
      "cell_type": "markdown",
      "metadata": {
        "id": "kW-bt8_xnsuh",
        "colab_type": "text"
      },
      "source": [
        "The shape of a vector can be obtained using the shape attribute:"
      ]
    },
    {
      "cell_type": "code",
      "metadata": {
        "id": "MzHcvfDLnr3z",
        "colab_type": "code",
        "outputId": "dbdc9cef-e8a9-45ad-bbac-1b9e44cadc4e",
        "colab": {
          "base_uri": "https://localhost:8080/",
          "height": 34
        }
      },
      "source": [
        "video.shape"
      ],
      "execution_count": 5,
      "outputs": [
        {
          "output_type": "execute_result",
          "data": {
            "text/plain": [
              "(4,)"
            ]
          },
          "metadata": {
            "tags": []
          },
          "execution_count": 5
        }
      ]
    },
    {
      "cell_type": "markdown",
      "metadata": {
        "id": "Rbh7N12PnyX2",
        "colab_type": "text"
      },
      "source": [
        "The type of a vector can be obtained using the dtype attribute:"
      ]
    },
    {
      "cell_type": "code",
      "metadata": {
        "id": "Cwbj3-_9nwf_",
        "colab_type": "code",
        "outputId": "d9227608-ea8c-4eed-b2ef-945ca258a92d",
        "colab": {
          "base_uri": "https://localhost:8080/",
          "height": 34
        }
      },
      "source": [
        "video.dtype"
      ],
      "execution_count": 6,
      "outputs": [
        {
          "output_type": "execute_result",
          "data": {
            "text/plain": [
              "dtype('float64')"
            ]
          },
          "metadata": {
            "tags": []
          },
          "execution_count": 6
        }
      ]
    },
    {
      "cell_type": "markdown",
      "metadata": {
        "id": "-vJeFn3HoD-n",
        "colab_type": "text"
      },
      "source": [
        "The $i^{th}$ element (also called *entry* or *item*) of a vector $\\textbf{v}$ is noted $\\textbf{v}_i$.\n",
        "\n",
        "Note that indices in mathematics generally start at 1, but in programming they usually start at 0. So to access $\\textbf{video}_3$ programmatically, we would write:"
      ]
    },
    {
      "cell_type": "code",
      "metadata": {
        "id": "KfkMh0mLn2MI",
        "colab_type": "code",
        "outputId": "c7f22395-5640-486c-e757-0f731c83b0c1",
        "colab": {
          "base_uri": "https://localhost:8080/",
          "height": 34
        }
      },
      "source": [
        "# 3rd element\n",
        "video[2]"
      ],
      "execution_count": 7,
      "outputs": [
        {
          "output_type": "execute_result",
          "data": {
            "text/plain": [
              "3.25"
            ]
          },
          "metadata": {
            "tags": []
          },
          "execution_count": 7
        }
      ]
    },
    {
      "cell_type": "code",
      "metadata": {
        "id": "6Zxo0mKPoTzk",
        "colab_type": "code",
        "outputId": "f6ae2a9e-0404-4ab4-b895-62ac47182559",
        "colab": {
          "base_uri": "https://localhost:8080/",
          "height": 34
        }
      },
      "source": [
        "# 4th element\n",
        "video[3]"
      ],
      "execution_count": 8,
      "outputs": [
        {
          "output_type": "execute_result",
          "data": {
            "text/plain": [
              "7.0"
            ]
          },
          "metadata": {
            "tags": []
          },
          "execution_count": 8
        }
      ]
    },
    {
      "cell_type": "markdown",
      "metadata": {
        "id": "3w7wiY8xotkQ",
        "colab_type": "text"
      },
      "source": [
        "### Plotting vectors"
      ]
    },
    {
      "cell_type": "markdown",
      "metadata": {
        "id": "YjyqDaPZo0IJ",
        "colab_type": "text"
      },
      "source": [
        "To plot vectors we will use matplotlib, so let's start by importing it (for details about matplotlib, check the [matplotlib tutorial](https://github.com/ageron/handson-ml2/blob/master/tools_matplotlib.ipynb)):"
      ]
    },
    {
      "cell_type": "markdown",
      "metadata": {
        "id": "YhJavWMIpLej",
        "colab_type": "text"
      },
      "source": [
        "#### 2D vectors"
      ]
    },
    {
      "cell_type": "markdown",
      "metadata": {
        "id": "w5dOTjlbpOU4",
        "colab_type": "text"
      },
      "source": [
        "Let's create a couple very simple 2D vectors to plot:"
      ]
    },
    {
      "cell_type": "code",
      "metadata": {
        "id": "L893f60fouxE",
        "colab_type": "code",
        "colab": {}
      },
      "source": [
        "u = np.array([2, 5])  # x=2 & y=5\n",
        "v = np.array([3, 1])  # x=3 & y=1"
      ],
      "execution_count": 0,
      "outputs": []
    },
    {
      "cell_type": "markdown",
      "metadata": {
        "id": "0FQA8kwBpfip",
        "colab_type": "text"
      },
      "source": [
        "These vectors each have 2 elements, so they can easily be represented graphically on a 2D graph, for example as points:"
      ]
    },
    {
      "cell_type": "code",
      "metadata": {
        "id": "ORPjyf6zpg8I",
        "colab_type": "code",
        "outputId": "e3e88f2b-d645-4071-e478-87fdd7ec0571",
        "colab": {
          "base_uri": "https://localhost:8080/",
          "height": 0
        }
      },
      "source": [
        "x_coords, y_coords = zip(u, v)\n",
        "\n",
        "plt.scatter(x_coords, y_coords, color=['r', 'g'])\n",
        "plt.axis([0, 9, 0, 6])\n",
        "plt.grid()\n",
        "plt.show()"
      ],
      "execution_count": 10,
      "outputs": [
        {
          "output_type": "display_data",
          "data": {
            "image/png": "[encoded data removed]",
            "text/plain": [
              "<Figure size 432x288 with 1 Axes>"
            ]
          },
          "metadata": {
            "tags": [],
            "needs_background": "light"
          }
        }
      ]
    },
    {
      "cell_type": "markdown",
      "metadata": {
        "id": "lPLPCSiWrXNK",
        "colab_type": "text"
      },
      "source": [
        "Vectors can also be represented as arrows. Let's create a small convenience function to draw nice arrows:"
      ]
    },
    {
      "cell_type": "code",
      "metadata": {
        "id": "2IdvpSmxqoli",
        "colab_type": "code",
        "colab": {}
      },
      "source": [
        "def plot_vector2d(vector2d, origin=[0, 0], **options):\n",
        "  return plt.arrow(origin[0], origin[1], vector2d[0], vector2d[1], \n",
        "                   head_width=0.2, head_length=0.3, length_includes_head=True, **options)"
      ],
      "execution_count": 0,
      "outputs": []
    },
    {
      "cell_type": "markdown",
      "metadata": {
        "id": "HCSb3YjHr-VG",
        "colab_type": "text"
      },
      "source": [
        "Now let's draw the vectors u and v as arrows:"
      ]
    },
    {
      "cell_type": "code",
      "metadata": {
        "id": "_aYBtRlYr_pW",
        "colab_type": "code",
        "outputId": "66f2551a-1f2f-4f2d-ce95-491456e83811",
        "colab": {
          "base_uri": "https://localhost:8080/",
          "height": 0
        }
      },
      "source": [
        "plot_vector2d(u, color='r')\n",
        "plot_vector2d(v, color='g')\n",
        "plt.axis([0, 9, 0, 6])\n",
        "plt.grid()\n",
        "plt.show()"
      ],
      "execution_count": 12,
      "outputs": [
        {
          "output_type": "display_data",
          "data": {
            "image/png": "[encoded data removed]",
            "text/plain": [
              "<Figure size 432x288 with 1 Axes>"
            ]
          },
          "metadata": {
            "tags": [],
            "needs_background": "light"
          }
        }
      ]
    },
    {
      "cell_type": "markdown",
      "metadata": {
        "id": "Q1jhttr1ssfD",
        "colab_type": "text"
      },
      "source": [
        "#### 3D vectors"
      ]
    },
    {
      "cell_type": "markdown",
      "metadata": {
        "id": "GssbZA-7stwI",
        "colab_type": "text"
      },
      "source": [
        "Plotting 3D vectors is also relatively straightforward. First let's create two 3D vectors:"
      ]
    },
    {
      "cell_type": "code",
      "metadata": {
        "id": "51lkocSGsTFF",
        "colab_type": "code",
        "colab": {}
      },
      "source": [
        "a = np.array([1, 2, 8])\n",
        "b = np.array([5, 6, 3])"
      ],
      "execution_count": 0,
      "outputs": []
    },
    {
      "cell_type": "markdown",
      "metadata": {
        "id": "eN024N7ns94O",
        "colab_type": "text"
      },
      "source": [
        "Now let's plot them using matplotlib's Axes3D:"
      ]
    },
    {
      "cell_type": "code",
      "metadata": {
        "id": "fkkcohQfs7yw",
        "colab_type": "code",
        "outputId": "acc8a848-2351-4e48-f954-3c53806a34b9",
        "colab": {
          "base_uri": "https://localhost:8080/",
          "height": 0
        }
      },
      "source": [
        "x_coords, y_coords, z_coords = zip(a, b)\n",
        "\n",
        "subplot3d = plt.subplot(111, projection='3d')\n",
        "subplot3d.scatter(x_coords, y_coords, z_coords)\n",
        "subplot3d.set_zlim3d([0, 9])\n",
        "plt.show()"
      ],
      "execution_count": 14,
      "outputs": [
        {
          "output_type": "display_data",
          "data": {
            "image/png": "[encoded data removed]",
            "text/plain": [
              "<Figure size 432x288 with 1 Axes>"
            ]
          },
          "metadata": {
            "tags": [],
            "needs_background": "light"
          }
        }
      ]
    },
    {
      "cell_type": "markdown",
      "metadata": {
        "id": "gnsYiA_Kt9pI",
        "colab_type": "text"
      },
      "source": [
        "It is a bit hard to visualize exactly where in space these two points are, so let's add vertical lines. \n",
        "\n",
        "We'll create a small convenience function to plot a list of 3d vectors with vertical lines attached:"
      ]
    },
    {
      "cell_type": "code",
      "metadata": {
        "id": "dy7Eq6CktnUa",
        "colab_type": "code",
        "outputId": "e38cf59a-26a6-4807-ba20-3d4c4522dcd2",
        "colab": {
          "base_uri": "https://localhost:8080/",
          "height": 0
        }
      },
      "source": [
        "def plot_vectors3d(ax, vectors3d, z0, **options):\n",
        "  for v in vectors3d:\n",
        "    x, y, z = v\n",
        "    ax.plot([x, x], [y, y], [z0, z], color='blue', linestyle='dotted', marker='.')\n",
        "  x_coords, y_coords, z_coords = zip(*vectors3d)\n",
        "  ax.scatter(x_coords, y_coords, z_coords, **options)\n",
        "\n",
        "subplot3d = plt.subplot(111, projection='3d')\n",
        "subplot3d.set_zlim([0, 9])\n",
        "plot_vectors3d(subplot3d, [a, b], 0, color=('r', 'g'))\n",
        "plt.show()"
      ],
      "execution_count": 15,
      "outputs": [
        {
          "output_type": "display_data",
          "data": {
            "image/png": "[encoded data removed]",
            "text/plain": [
              "<Figure size 432x288 with 1 Axes>"
            ]
          },
          "metadata": {
            "tags": [],
            "needs_background": "light"
          }
        }
      ]
    },
    {
      "cell_type": "markdown",
      "metadata": {
        "id": "gV98n6pWvXNL",
        "colab_type": "text"
      },
      "source": [
        "### Norm"
      ]
    },
    {
      "cell_type": "markdown",
      "metadata": {
        "id": "h31-4q0zcoNL",
        "colab_type": "text"
      },
      "source": [
        "The norm of a vector $\\textbf{u}$, noted $\\left \\Vert \\textbf{u} \\right \\|$, is a measure of the length (a.k.a. the magnitude) of $\\textbf{u}$. There are multiple possible norms, but the most common one (and the only one we will discuss here) is the Euclidian norm, which is defined as:\n",
        "\n",
        "$\\left \\Vert \\textbf{u} \\right \\| = \\sqrt{\\sum_{i}{\\textbf{u}_i}^2}$\n",
        "\n",
        "We could implement this easily in pure python, recalling that $\\sqrt x = x^{\\frac{1}{2}}$"
      ]
    },
    {
      "cell_type": "code",
      "metadata": {
        "id": "lCdZaPMdvLVS",
        "colab_type": "code",
        "colab": {}
      },
      "source": [
        "def vector_norm(vector):\n",
        "  squares = [element ** 2 for element in vector]\n",
        "  return sum(squares) ** 0.5"
      ],
      "execution_count": 0,
      "outputs": []
    },
    {
      "cell_type": "code",
      "metadata": {
        "id": "BHxIMTbBdGsA",
        "colab_type": "code",
        "outputId": "873ad76d-78e4-4e0c-841e-60903ccccbe7",
        "colab": {
          "base_uri": "https://localhost:8080/",
          "height": 0
        }
      },
      "source": [
        "print(f'|| {u} || = {vector_norm(u)}')"
      ],
      "execution_count": 17,
      "outputs": [
        {
          "output_type": "stream",
          "text": [
            "|| [2 5] || = 5.385164807134504\n"
          ],
          "name": "stdout"
        }
      ]
    },
    {
      "cell_type": "code",
      "metadata": {
        "id": "lAAtNN7tdvYP",
        "colab_type": "code",
        "colab": {}
      },
      "source": [
        "def vector_norm(vector):\n",
        "  squares = [element ** 2 for element in vector]\n",
        "  return sum(squares) ** (1/2)"
      ],
      "execution_count": 0,
      "outputs": []
    },
    {
      "cell_type": "code",
      "metadata": {
        "id": "gsf5QglAdUvf",
        "colab_type": "code",
        "outputId": "cf555ae3-aa03-4b8e-b5f1-5df38dddc47b",
        "colab": {
          "base_uri": "https://localhost:8080/",
          "height": 0
        }
      },
      "source": [
        "print(f'|| {u} || = {vector_norm(u)}')"
      ],
      "execution_count": 19,
      "outputs": [
        {
          "output_type": "stream",
          "text": [
            "|| [2 5] || = 5.385164807134504\n"
          ],
          "name": "stdout"
        }
      ]
    },
    {
      "cell_type": "markdown",
      "metadata": {
        "id": "wZgEcGuReD2z",
        "colab_type": "text"
      },
      "source": [
        "However, it is much more efficient to use NumPy's norm function, available in the linalg (Linear Algebra) module:"
      ]
    },
    {
      "cell_type": "code",
      "metadata": {
        "id": "BQPvC8RPdlPS",
        "colab_type": "code",
        "outputId": "3cf0f6fb-065a-408d-ecad-9b14eb54aedb",
        "colab": {
          "base_uri": "https://localhost:8080/",
          "height": 0
        }
      },
      "source": [
        "import numpy.linalg as LA\n",
        "\n",
        "LA.norm(u)"
      ],
      "execution_count": 20,
      "outputs": [
        {
          "output_type": "execute_result",
          "data": {
            "text/plain": [
              "5.385164807134504"
            ]
          },
          "metadata": {
            "tags": []
          },
          "execution_count": 20
        }
      ]
    },
    {
      "cell_type": "markdown",
      "metadata": {
        "id": "ZLxACQELedG8",
        "colab_type": "text"
      },
      "source": [
        "Let's plot a little diagram to confirm that the length of vector $\\textbf{v}$ is indeed $\\approx5.4$:"
      ]
    },
    {
      "cell_type": "code",
      "metadata": {
        "id": "2kpPxB8-eTih",
        "colab_type": "code",
        "outputId": "1a16d75b-6ae2-482e-c59b-6e86eb00f281",
        "colab": {
          "base_uri": "https://localhost:8080/",
          "height": 0
        }
      },
      "source": [
        "radius = LA.norm(u)\n",
        "\n",
        "plt.gca().add_artist(plt.Circle((0, 0), radius, color='#DDDDDD'))\n",
        "plot_vector2d(u, color='red')\n",
        "plt.axis([0, 8.7, 0, 6])\n",
        "plt.grid()\n",
        "plt.show()"
      ],
      "execution_count": 21,
      "outputs": [
        {
          "output_type": "display_data",
          "data": {
            "image/png": "[encoded data removed]",
            "text/plain": [
              "<Figure size 432x288 with 1 Axes>"
            ]
          },
          "metadata": {
            "tags": [],
            "needs_background": "light"
          }
        }
      ]
    },
    {
      "cell_type": "code",
      "metadata": {
        "id": "WYstbb8-hjlX",
        "colab_type": "code",
        "outputId": "7cfdb9ad-f1d5-4caf-ec55-003565c6e4c5",
        "colab": {
          "base_uri": "https://localhost:8080/",
          "height": 0
        }
      },
      "source": [
        "plt.gca().add_artist(plt.Circle((0, 0), radius, color='#DDDDDD'))\n",
        "plot_vector2d(u, color='red')\n",
        "plt.axis([-8, 8.7, -6, 6])\n",
        "plt.grid()\n",
        "plt.show()"
      ],
      "execution_count": 22,
      "outputs": [
        {
          "output_type": "display_data",
          "data": {
            "image/png": "[encoded data removed]",
            "text/plain": [
              "<Figure size 432x288 with 1 Axes>"
            ]
          },
          "metadata": {
            "tags": [],
            "needs_background": "light"
          }
        }
      ]
    },
    {
      "cell_type": "markdown",
      "metadata": {
        "id": "wm_K0jIvgW_a",
        "colab_type": "text"
      },
      "source": [
        "Looks about right!"
      ]
    },
    {
      "cell_type": "markdown",
      "metadata": {
        "id": "m0tKoHPtgbJ9",
        "colab_type": "text"
      },
      "source": [
        "### Addition"
      ]
    },
    {
      "cell_type": "markdown",
      "metadata": {
        "id": "jItT3wNAgdhw",
        "colab_type": "text"
      },
      "source": [
        "Vectors of same size can be added together. Addition is performed elementwise:"
      ]
    },
    {
      "cell_type": "code",
      "metadata": {
        "id": "l43nRBfSf4eu",
        "colab_type": "code",
        "outputId": "94d047f6-17af-41e5-e11c-6a93a6e2bc0f",
        "colab": {
          "base_uri": "https://localhost:8080/",
          "height": 0
        }
      },
      "source": [
        "print(' ', u)\n",
        "print('+', v)\n",
        "print('-'*10)\n",
        "u + v"
      ],
      "execution_count": 23,
      "outputs": [
        {
          "output_type": "stream",
          "text": [
            "  [2 5]\n",
            "+ [3 1]\n",
            "----------\n"
          ],
          "name": "stdout"
        },
        {
          "output_type": "execute_result",
          "data": {
            "text/plain": [
              "array([5, 6])"
            ]
          },
          "metadata": {
            "tags": []
          },
          "execution_count": 23
        }
      ]
    },
    {
      "cell_type": "markdown",
      "metadata": {
        "id": "0W5vqWS1hQp4",
        "colab_type": "text"
      },
      "source": [
        "Let's look at what vector addition looks like graphically:"
      ]
    },
    {
      "cell_type": "code",
      "metadata": {
        "id": "3hvihJuRhF3t",
        "colab_type": "code",
        "outputId": "403d3532-1662-4855-8913-5317187d16e3",
        "colab": {
          "base_uri": "https://localhost:8080/",
          "height": 0
        }
      },
      "source": [
        "plot_vector2d(u, color='r')\n",
        "plot_vector2d(v, color='b')\n",
        "\n",
        "plot_vector2d(v, origin=u, color='b', linestyle='dotted')\n",
        "plot_vector2d(u, origin=v, color='r', linestyle='dotted')\n",
        "\n",
        "# plot addition\n",
        "plot_vector2d(u + v, color='g')\n",
        "plt.axis([0, 9, 0, 7])\n",
        "\n",
        "# annotate text for u\n",
        "plt.text(0.7, 3, 'u', color='r', fontsize=18)\n",
        "plt.text(4, 3, 'u', color='r', fontsize=18)\n",
        "\n",
        "# annotate text for v\n",
        "plt.text(1.8, 0.2, 'v', color='b', fontsize=18)\n",
        "plt.text(3.1, 5.6, 'v', color='b', fontsize=18)\n",
        "\n",
        "# annotate text for u+v\n",
        "plt.text(2.4, 2.5, 'u+v', color='g', fontsize=18)\n",
        "\n",
        "plt.grid()\n",
        "plt.show()"
      ],
      "execution_count": 24,
      "outputs": [
        {
          "output_type": "display_data",
          "data": {
            "image/png": "[encoded data removed]",
            "text/plain": [
              "<Figure size 432x288 with 1 Axes>"
            ]
          },
          "metadata": {
            "tags": [],
            "needs_background": "light"
          }
        }
      ]
    },
    {
      "cell_type": "markdown",
      "metadata": {
        "id": "VNfWefmJmLAM",
        "colab_type": "text"
      },
      "source": [
        "Vector addition is commutative, meaning that $\\textbf{u} + \\textbf{v} = \\textbf{v} + \\textbf{u}$. You can see it on the previous image: following $\\textbf{u}$ then $\\textbf{v}$ leads to the same point as following $\\textbf{v}$ then $\\textbf{u}$.\n",
        "\n",
        "Vector addition is also associative, meaning that $\\textbf{u} + (\\textbf{v} + \\textbf{w}) = (\\textbf{u} + \\textbf{v}) + \\textbf{w}$.\n",
        "\n",
        "If you have a shape defined by a number of points (vectors), and you add a vector $\\textbf{v}$ to all of these points, then the whole shape gets shifted by $\\textbf{v}$. This is called a [geometric translation](https://en.wikipedia.org/wiki/Translation_%28geometry%29):"
      ]
    },
    {
      "cell_type": "code",
      "metadata": {
        "id": "ydkEZDghp345",
        "colab_type": "code",
        "outputId": "ebb8a213-d546-42c1-dff8-77289a40e861",
        "colab": {
          "base_uri": "https://localhost:8080/",
          "height": 0
        }
      },
      "source": [
        "v"
      ],
      "execution_count": 25,
      "outputs": [
        {
          "output_type": "execute_result",
          "data": {
            "text/plain": [
              "array([3, 1])"
            ]
          },
          "metadata": {
            "tags": []
          },
          "execution_count": 25
        }
      ]
    },
    {
      "cell_type": "code",
      "metadata": {
        "id": "j27QPpydiIAR",
        "colab_type": "code",
        "outputId": "2959464b-d5a4-4726-b0a7-6437997cd75c",
        "colab": {
          "base_uri": "https://localhost:8080/",
          "height": 0
        }
      },
      "source": [
        "t1 = np.array([2, 0.25])\n",
        "t2 = np.array([2.5, 3.5])\n",
        "t3 = np.array([1, 2])\n",
        "\n",
        "# combine all points \n",
        "x_coords, y_coords = zip(t1, t2, t3, t1)\n",
        "plt.plot(x_coords, y_coords, 'c--', x_coords, y_coords, 'co')\n",
        "\n",
        "# join all origin points with vector v\n",
        "plot_vector2d(v, t1, color='r', linestyle=':')\n",
        "plot_vector2d(v, t2, color='r', linestyle=':')\n",
        "plot_vector2d(v, t3, color='r', linestyle=':')\n",
        "\n",
        "# annotate all origin points\n",
        "plt.text(2.2, 3.7, 't1', color='b', fontsize=18)\n",
        "plt.text(0.7, 2, 't2', color='b', fontsize=18)\n",
        "plt.text(1.6, 0.2, 't3', color='b', fontsize=18)\n",
        "\n",
        "# add vector v to each t points\n",
        "t1b = t1 + v\n",
        "t2b = t2 + v\n",
        "t3b = t3 + v\n",
        "\n",
        "# join vector v to all resultant points\n",
        "x_coords_b, y_coords_b = zip(t1b, t2b, t3b, t1b)\n",
        "plt.plot(x_coords_b, y_coords_b, 'b--', x_coords_b, y_coords_b, 'bo')\n",
        "\n",
        "# annotate vector addition\n",
        "plt.text(3.5, 4.2, 't1+v', color='g', fontsize=18)\n",
        "plt.text(2.5, 2.2, 't2+v', color='g', fontsize=18)\n",
        "plt.text(2.5, 0.7, 't3+v', color='g', fontsize=18)\n",
        "\n",
        "# annotate all origin points\n",
        "plt.text(5.5, 4.5, 't1b', color='r', fontsize=18)\n",
        "plt.text(4.3, 3, 't2b', color='r', fontsize=18)\n",
        "plt.text(5.2, 1.4, 't3b', color='r', fontsize=18)\n",
        "\n",
        "plt.axis([0, 6, 0, 5])\n",
        "plt.grid()\n",
        "plt.show()"
      ],
      "execution_count": 26,
      "outputs": [
        {
          "output_type": "display_data",
          "data": {
            "image/png": "[encoded data removed]",
            "text/plain": [
              "<Figure size 432x288 with 1 Axes>"
            ]
          },
          "metadata": {
            "tags": [],
            "needs_background": "light"
          }
        }
      ]
    },
    {
      "cell_type": "markdown",
      "metadata": {
        "id": "W4M5OQQ5u-P2",
        "colab_type": "text"
      },
      "source": [
        "Finally, substracting a vector is like adding the opposite vector."
      ]
    },
    {
      "cell_type": "markdown",
      "metadata": {
        "id": "twPFUfqPvG05",
        "colab_type": "text"
      },
      "source": [
        "### Multiplication by a scalar"
      ]
    },
    {
      "cell_type": "markdown",
      "metadata": {
        "id": "pI8AGLcbvH_L",
        "colab_type": "text"
      },
      "source": [
        "Vectors can be multiplied by scalars. All elements in the vector are multiplied by that number, for example:"
      ]
    },
    {
      "cell_type": "code",
      "metadata": {
        "id": "bdqy2vw7pFlh",
        "colab_type": "code",
        "outputId": "8586fd97-edfa-48ef-f9f6-495331c96f2d",
        "colab": {
          "base_uri": "https://localhost:8080/",
          "height": 0
        }
      },
      "source": [
        "print('1.5 * ', u , '=')\n",
        "1.5 * u"
      ],
      "execution_count": 27,
      "outputs": [
        {
          "output_type": "stream",
          "text": [
            "1.5 *  [2 5] =\n"
          ],
          "name": "stdout"
        },
        {
          "output_type": "execute_result",
          "data": {
            "text/plain": [
              "array([3. , 7.5])"
            ]
          },
          "metadata": {
            "tags": []
          },
          "execution_count": 27
        }
      ]
    },
    {
      "cell_type": "markdown",
      "metadata": {
        "id": "QClnX4Uk-Jp3",
        "colab_type": "text"
      },
      "source": [
        "Graphically, scalar multiplication results in changing the scale of a figure, hence the name scalar. The distance from the origin (the point at coordinates equal to zero) is also multiplied by the scalar. For example, let's scale up by a factor of k = 2.5:"
      ]
    },
    {
      "cell_type": "code",
      "metadata": {
        "id": "vA4nrAL79iUd",
        "colab_type": "code",
        "outputId": "d34ce803-3bbb-4c81-c42a-d424b4bafe50",
        "colab": {
          "base_uri": "https://localhost:8080/",
          "height": 0
        }
      },
      "source": [
        "k = 2.5\n",
        "t1c = k * t1\n",
        "t2c = k * t2\n",
        "t3c = k * t3\n",
        "\n",
        "plt.plot(x_coords, y_coords, \"c--\", x_coords, y_coords, \"co\")\n",
        "\n",
        "plot_vector2d(t1, color=\"r\")\n",
        "plot_vector2d(t2, color=\"r\")\n",
        "plot_vector2d(t3, color=\"r\")\n",
        "\n",
        "x_coords_c, y_coords_c = zip(t1c, t2c, t3c, t1c)\n",
        "plt.plot(x_coords_c, y_coords_c, \"b-\", x_coords_c, y_coords_c, \"bo\")\n",
        "\n",
        "plot_vector2d(k * t1, color=\"b\", linestyle=\":\")\n",
        "plot_vector2d(k * t2, color=\"b\", linestyle=\":\")\n",
        "plot_vector2d(k * t3, color=\"b\", linestyle=\":\")\n",
        "\n",
        "plt.axis([0, 9, 0, 9])\n",
        "plt.grid()\n",
        "plt.show()"
      ],
      "execution_count": 28,
      "outputs": [
        {
          "output_type": "display_data",
          "data": {
            "image/png": "[encoded data removed]",
            "text/plain": [
              "<Figure size 432x288 with 1 Axes>"
            ]
          },
          "metadata": {
            "tags": [],
            "needs_background": "light"
          }
        }
      ]
    },
    {
      "cell_type": "markdown",
      "metadata": {
        "id": "VWUTNH4G-tDH",
        "colab_type": "text"
      },
      "source": [
        "As you might guess, dividing a vector by a scalar is equivalent to multiplying by its multiplicative inverse (reciprocal):\n",
        "\n",
        "$\\dfrac{\\textbf{u}}{\\lambda} = \\dfrac{1}{\\lambda} \\times \\textbf{u}$\n",
        "\n",
        "Scalar multiplication is commutative: $\\lambda \\times \\textbf{u} = \\textbf{u} \\times \\lambda$.\n",
        "\n",
        "It is also associative: $\\lambda_1 \\times (\\lambda_2 \\times \\textbf{u}) = (\\lambda_1 \\times \\lambda_2) \\times \\textbf{u}$.\n",
        "\n",
        "Finally, it is distributive over addition of vectors: $\\lambda \\times (\\textbf{u} + \\textbf{v}) = \\lambda \\times \\textbf{u} + \\lambda \\times \\textbf{v}$."
      ]
    },
    {
      "cell_type": "markdown",
      "metadata": {
        "id": "7-tRnRh8-uDN",
        "colab_type": "text"
      },
      "source": [
        "### Zero, unit and normalized vectors"
      ]
    },
    {
      "cell_type": "markdown",
      "metadata": {
        "id": "gy7l2D7X-6Lu",
        "colab_type": "text"
      },
      "source": [
        "* A zero-vector is a vector full of 0s.\n",
        "* A unit vector is a vector with a norm equal to 1.\n",
        "* The normalized vector of a non-null vector $\\textbf{u}$, noted $\\hat{\\textbf{u}}$, is the unit vector that points in the same direction as $\\textbf{u}$. It is equal to: $\\hat{\\textbf{u}} = \\dfrac{\\textbf{u}}{\\left \\Vert \\textbf{u} \\right \\|}$"
      ]
    },
    {
      "cell_type": "code",
      "metadata": {
        "id": "9hYWHjc0-MSo",
        "colab_type": "code",
        "outputId": "3df691c2-caaf-48d1-9003-489bd5892164",
        "colab": {
          "base_uri": "https://localhost:8080/",
          "height": 0
        }
      },
      "source": [
        "plt.gca().add_artist(plt.Circle((0, 0), 1, color='c'))\n",
        "plt.plot(0, 0, 'ko')\n",
        "plot_vector2d(v / LA.norm(v), color='k')\n",
        "plot_vector2d(v, color='b', linestyle=':')\n",
        "plt.text(0.3, 0.3, '$\\hat{u}$', color='k', fontsize=18)\n",
        "plt.text(1.5, 0.7, '$u$', color='b', fontsize=18)\n",
        "plt.axis([-1.5, 5.5, -1.5, 3.5])\n",
        "plt.grid()\n",
        "plt.show()"
      ],
      "execution_count": 29,
      "outputs": [
        {
          "output_type": "display_data",
          "data": {
            "image/png": "[encoded data removed]",
            "text/plain": [
              "<Figure size 432x288 with 1 Axes>"
            ]
          },
          "metadata": {
            "tags": [],
            "needs_background": "light"
          }
        }
      ]
    },
    {
      "cell_type": "markdown",
      "metadata": {
        "id": "TFyKRZ2uA-l-",
        "colab_type": "text"
      },
      "source": [
        "### Dot product"
      ]
    },
    {
      "cell_type": "markdown",
      "metadata": {
        "id": "24HJJpwdA_pr",
        "colab_type": "text"
      },
      "source": [
        "### Definition\n",
        "The dot product (also called *scalar product* or *inner product* in the context of the Euclidian space) of two vectors $\\textbf{u}$ and $\\textbf{v}$ is a useful operation that comes up fairly often in linear algebra. It is noted $\\textbf{u} \\cdot \\textbf{v}$, or sometimes $⟨\\textbf{u}|\\textbf{v}⟩$ or $(\\textbf{u}|\\textbf{v})$, and it is defined as:\n",
        "\n",
        "$\\textbf{u} \\cdot \\textbf{v} = \\left \\Vert \\textbf{u} \\right \\| \\times \\left \\Vert \\textbf{v} \\right \\| \\times cos(\\theta)$\n",
        "\n",
        "where $\\theta$ is the angle between $\\textbf{u}$ and $\\textbf{v}$.\n",
        "\n",
        "Another way to calculate the dot product is:\n",
        "\n",
        "$\\textbf{u} \\cdot \\textbf{v} = \\sum_i{\\textbf{u}_i \\times \\textbf{v}_i}$\n",
        "\n",
        "### In python\n",
        "The dot product is pretty simple to implement:"
      ]
    },
    {
      "cell_type": "code",
      "metadata": {
        "id": "Osv5RdAu_gxk",
        "colab_type": "code",
        "colab": {
          "base_uri": "https://localhost:8080/",
          "height": 34
        },
        "outputId": "8d4057ba-59b8-479f-8c50-68d88e9fcc54"
      },
      "source": [
        "def dot_product(v1, v2):\n",
        "  return sum(v1i * v2i for v1i, v2i in zip(v1, v2))\n",
        "\n",
        "dot_product(u, v)"
      ],
      "execution_count": 32,
      "outputs": [
        {
          "output_type": "execute_result",
          "data": {
            "text/plain": [
              "11"
            ]
          },
          "metadata": {
            "tags": []
          },
          "execution_count": 32
        }
      ]
    },
    {
      "cell_type": "markdown",
      "metadata": {
        "id": "R95tK24Y1Cg4",
        "colab_type": "text"
      },
      "source": [
        "But a *much* more efficient implementation is provided by NumPy with the `dot` function:"
      ]
    },
    {
      "cell_type": "code",
      "metadata": {
        "id": "n7STPKAU04Ai",
        "colab_type": "code",
        "colab": {
          "base_uri": "https://localhost:8080/",
          "height": 34
        },
        "outputId": "21af10aa-5223-4c74-d9ab-bb42a051d2e2"
      },
      "source": [
        "np.dot(u, v)"
      ],
      "execution_count": 33,
      "outputs": [
        {
          "output_type": "execute_result",
          "data": {
            "text/plain": [
              "11"
            ]
          },
          "metadata": {
            "tags": []
          },
          "execution_count": 33
        }
      ]
    },
    {
      "cell_type": "markdown",
      "metadata": {
        "id": "xkrMkLQa1JwM",
        "colab_type": "text"
      },
      "source": [
        "Equivalently, you can use the dot method of ndarrays:"
      ]
    },
    {
      "cell_type": "code",
      "metadata": {
        "id": "nzCdzVtK1HFO",
        "colab_type": "code",
        "colab": {
          "base_uri": "https://localhost:8080/",
          "height": 34
        },
        "outputId": "f090e0ee-bf64-4642-d17f-a21cebe40d28"
      },
      "source": [
        "u.dot(v)"
      ],
      "execution_count": 34,
      "outputs": [
        {
          "output_type": "execute_result",
          "data": {
            "text/plain": [
              "11"
            ]
          },
          "metadata": {
            "tags": []
          },
          "execution_count": 34
        }
      ]
    },
    {
      "cell_type": "markdown",
      "metadata": {
        "id": "C16NNaRT1QyD",
        "colab_type": "text"
      },
      "source": [
        "**Caution**: the `*` operator will perform an *elementwise* multiplication, *NOT* a dot product:"
      ]
    },
    {
      "cell_type": "code",
      "metadata": {
        "id": "UQD1ybG31Mun",
        "colab_type": "code",
        "colab": {
          "base_uri": "https://localhost:8080/",
          "height": 85
        },
        "outputId": "884a3884-407d-477f-c014-f0891cdeda4f"
      },
      "source": [
        "print(' ', u)\n",
        "print('*', v, '(Not a dot product)')\n",
        "print('-' * 10)\n",
        "\n",
        "u * v"
      ],
      "execution_count": 35,
      "outputs": [
        {
          "output_type": "stream",
          "text": [
            "  [2 5]\n",
            "* [3 1] (Not a dot product)\n",
            "----------\n"
          ],
          "name": "stdout"
        },
        {
          "output_type": "execute_result",
          "data": {
            "text/plain": [
              "array([6, 5])"
            ]
          },
          "metadata": {
            "tags": []
          },
          "execution_count": 35
        }
      ]
    },
    {
      "cell_type": "markdown",
      "metadata": {
        "id": "SwgCqzlE14td",
        "colab_type": "text"
      },
      "source": [
        "### Main properties\n",
        "* The dot product is **commutative**: $\\textbf{u} \\cdot \\textbf{v} = \\textbf{v} \\cdot \\textbf{u}$.\n",
        "* The dot product is only defined between two vectors, not between a scalar and a vector. This means that we cannot chain dot products: for example, the expression $\\textbf{u} \\cdot \\textbf{v} \\cdot \\textbf{w}$ is not defined since $\\textbf{u} \\cdot \\textbf{v}$ is a scalar and $\\textbf{w}$ is a vector.\n",
        "* This also means that the dot product is **NOT associative**: $(\\textbf{u} \\cdot \\textbf{v}) \\cdot \\textbf{w} ≠ \\textbf{u} \\cdot (\\textbf{v} \\cdot \\textbf{w})$ since neither are defined.\n",
        "* However, the dot product is **associative with regards to scalar multiplication**: $\\lambda \\times (\\textbf{u} \\cdot \\textbf{v}) = (\\lambda \\times \\textbf{u}) \\cdot \\textbf{v} = \\textbf{u} \\cdot (\\lambda \\times \\textbf{v})$\n",
        "* Finally, the dot product is **distributive** over addition of vectors: $\\textbf{u} \\cdot (\\textbf{v} + \\textbf{w}) = \\textbf{u} \\cdot \\textbf{v} + \\textbf{u} \\cdot \\textbf{w}$."
      ]
    },
    {
      "cell_type": "markdown",
      "metadata": {
        "id": "c3_2JlQA15cn",
        "colab_type": "text"
      },
      "source": [
        "### Calculating the angle between vectors"
      ]
    },
    {
      "cell_type": "markdown",
      "metadata": {
        "id": "EtHvcAcD19ow",
        "colab_type": "text"
      },
      "source": [
        "One of the many uses of the dot product is to calculate the angle between two non-zero vectors. Looking at the dot product definition, we can deduce the following formula:\n",
        "\n",
        "$\\theta = \\arccos{\\left ( \\dfrac{\\textbf{u} \\cdot \\textbf{v}}{\\left \\Vert \\textbf{u} \\right \\| \\times \\left \\Vert \\textbf{v} \\right \\|} \\right ) }$\n",
        "\n",
        "Note that if $\\textbf{u} \\cdot \\textbf{v} = 0$, it follows that $\\theta = \\dfrac{π}{2}$. In other words, if the dot product of two non-null vectors is zero, it means that they are orthogonal.\n",
        "\n",
        "Let's use this formula to calculate the angle between $\\textbf{u}$ and $\\textbf{v}$ (in radians):"
      ]
    },
    {
      "cell_type": "code",
      "metadata": {
        "id": "gMxcYPjk1l5G",
        "colab_type": "code",
        "colab": {
          "base_uri": "https://localhost:8080/",
          "height": 51
        },
        "outputId": "c34f592a-edb9-4c0f-c155-b20b3f3700e5"
      },
      "source": [
        "def vector_angle(u, v):\n",
        "  cos_theta = u.dot(v) / LA.norm(u) / LA.norm(v)\n",
        "  return np.arccos(np.clip(cos_theta, -1, 1))\n",
        "\n",
        "theta = vector_angle(u, v)\n",
        "print('Angle = ', theta, 'radians')\n",
        "print('      = ', theta * 180  / np.pi, 'degrees')"
      ],
      "execution_count": 36,
      "outputs": [
        {
          "output_type": "stream",
          "text": [
            "Angle =  0.8685393952858895 radians\n",
            "      =  49.76364169072618 degrees\n"
          ],
          "name": "stdout"
        }
      ]
    },
    {
      "cell_type": "markdown",
      "metadata": {
        "id": "eS0bxDFX3U23",
        "colab_type": "text"
      },
      "source": [
        "**Note**: due to small floating point errors, `cos_theta` may be very slightly outside of the $[-1, 1]$ interval, which would make `arccos` fail. This is why we clipped the value within the range, using NumPy's `clip` function."
      ]
    },
    {
      "cell_type": "markdown",
      "metadata": {
        "id": "4ukNjWjC3W8v",
        "colab_type": "text"
      },
      "source": [
        "### Projecting a point onto an axis"
      ]
    },
    {
      "cell_type": "markdown",
      "metadata": {
        "id": "Y_soefyT3ZYk",
        "colab_type": "text"
      },
      "source": [
        "The dot product is also very useful to project points onto an axis. The projection of vector $\\textbf{v}$ onto $\\textbf{u}$'s axis is given by this formula:\n",
        "\n",
        "$\\textbf{proj}_{\\textbf{u}}{\\textbf{v}} = \\dfrac{\\textbf{u} \\cdot \\textbf{v}}{\\left \\Vert \\textbf{u} \\right \\| ^2} \\times \\textbf{u}$\n",
        "\n",
        "Which is equivalent to:\n",
        "\n",
        "$\\textbf{proj}_{\\textbf{u}}{\\textbf{v}} = (\\textbf{v} \\cdot \\hat{\\textbf{u}}) \\times \\hat{\\textbf{u}}$\n"
      ]
    },
    {
      "cell_type": "code",
      "metadata": {
        "id": "v3ri1IFc3Lkt",
        "colab_type": "code",
        "colab": {
          "base_uri": "https://localhost:8080/",
          "height": 265
        },
        "outputId": "00789c09-5d29-451a-f96e-73427e25b2c3"
      },
      "source": [
        "u_normalized = u / LA.norm(u)\n",
        "proj = v.dot(u_normalized) * u_normalized\n",
        "\n",
        "plot_vector2d(u, color=\"r\")\n",
        "plot_vector2d(v, color=\"b\")\n",
        "\n",
        "plot_vector2d(proj, color=\"k\", linestyle=\":\")\n",
        "plt.plot(proj[0], proj[1], \"ko\")\n",
        "\n",
        "plt.plot([proj[0], v[0]], [proj[1], v[1]], \"b:\")\n",
        "\n",
        "plt.text(1, 2, \"$proj_u v$\", color=\"k\", fontsize=18)\n",
        "plt.text(1.8, 0.2, \"$v$\", color=\"b\", fontsize=18)\n",
        "plt.text(0.8, 3, \"$u$\", color=\"r\", fontsize=18)\n",
        "\n",
        "plt.axis([0, 8, 0, 5.5])\n",
        "plt.grid()\n",
        "plt.show()"
      ],
      "execution_count": 37,
      "outputs": [
        {
          "output_type": "display_data",
          "data": {
            "image/png": "[encoded data removed]",
            "text/plain": [
              "<Figure size 432x288 with 1 Axes>"
            ]
          },
          "metadata": {
            "tags": [],
            "needs_background": "light"
          }
        }
      ]
    },
    {
      "cell_type": "markdown",
      "metadata": {
        "id": "qOnZzGhu37J0",
        "colab_type": "text"
      },
      "source": [
        "## Matrices"
      ]
    },
    {
      "cell_type": "markdown",
      "metadata": {
        "id": "8djupqiZ38zE",
        "colab_type": "text"
      },
      "source": [
        ""
      ]
    },
    {
      "cell_type": "code",
      "metadata": {
        "id": "rjqj2NDg31-I",
        "colab_type": "code",
        "colab": {}
      },
      "source": [
        ""
      ],
      "execution_count": 0,
      "outputs": []
    }
  ]
}