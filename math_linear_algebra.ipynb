{
  "nbformat": 4,
  "nbformat_minor": 0,
  "metadata": {
    "colab": {
      "name": "math_linear_algebra.ipynb",
      "provenance": [],
      "toc_visible": true,
      "authorship_tag": "ABX9TyN39Slyikj/OtgQt9yTMnzZ",
      "include_colab_link": true
    },
    "kernelspec": {
      "name": "python3",
      "display_name": "Python 3"
    }
  },
  "cells": [
    {
      "cell_type": "markdown",
      "metadata": {
        "id": "view-in-github",
        "colab_type": "text"
      },
      "source": [
        "<a href=\"https://colab.research.google.com/github/rahiakela/hands-on-machine-learning-with-scikit-learn-keras-and-tensorflow/blob/0-math-numpy-pandas-matplotlib-guide/math_linear_algebra.ipynb\" target=\"_parent\"><img src=\"https://colab.research.google.com/assets/colab-badge.svg\" alt=\"Open In Colab\"/></a>"
      ]
    },
    {
      "cell_type": "markdown",
      "metadata": {
        "id": "VymMf809i6rQ",
        "colab_type": "text"
      },
      "source": [
        "# Linear Algebra"
      ]
    },
    {
      "cell_type": "markdown",
      "metadata": {
        "id": "mTcOvL_Ei-VW",
        "colab_type": "text"
      },
      "source": [
        "Linear Algebra is the branch of mathematics that studies vector spaces and linear transformations between vector spaces, such as rotating a shape, scaling it up or down, translating it (ie. moving it), etc.\n",
        "\n",
        "Machine Learning relies heavily on Linear Algebra, so it is essential to understand what vectors and matrices are, what operations you can perform with them, and how they can be useful."
      ]
    },
    {
      "cell_type": "markdown",
      "metadata": {
        "id": "zQoAQ48zjEif",
        "colab_type": "text"
      },
      "source": [
        "## Setup"
      ]
    },
    {
      "cell_type": "code",
      "metadata": {
        "id": "0MiuZ6QZjGS0",
        "colab_type": "code",
        "colab": {}
      },
      "source": [
        "# Python ≥3.5 is required\n",
        "import sys\n",
        "assert sys.version_info >= (3, 5)\n",
        "\n",
        "import numpy as np\n",
        "import numpy.linalg as LA\n",
        "\n",
        "\n",
        "%matplotlib inline\n",
        "import matplotlib.pyplot as plt\n",
        "from mpl_toolkits.mplot3d import Axes3D"
      ],
      "execution_count": 0,
      "outputs": []
    },
    {
      "cell_type": "markdown",
      "metadata": {
        "id": "yS4iaL0sjGi-",
        "colab_type": "text"
      },
      "source": [
        "## Vectors"
      ]
    },
    {
      "cell_type": "markdown",
      "metadata": {
        "id": "owxivb_3jHgi",
        "colab_type": "text"
      },
      "source": [
        "### Definition"
      ]
    },
    {
      "cell_type": "markdown",
      "metadata": {
        "id": "fBomEhFpkIZH",
        "colab_type": "text"
      },
      "source": [
        "A vector is a quantity defined by a magnitude and a direction. For example, a rocket's velocity is a 3-dimensional vector: its magnitude is the speed of the rocket, and its direction is (hopefully) up. A vector can be represented by an array of numbers called *scalars*. Each scalar corresponds to the magnitude of the vector with regards to each dimension.\n",
        "\n",
        "For example, say the rocket is going up at a slight angle: it has a vertical speed of 5,000 m/s, and also a slight speed towards the East at 10 m/s, and a slight speed towards the North at 50 m/s. The rocket's velocity may be represented by the following vector:\n",
        "\n",
        "**velocity** $= \\begin{pmatrix}\n",
        "10 \\\\\n",
        "50 \\\\\n",
        "5000 \\\\\n",
        "\\end{pmatrix}$\n",
        "\n",
        "Note: by convention vectors are generally presented in the form of columns. Also, vector names are generally lowercase to distinguish them from matrices (which we will discuss below) and in bold (when possible) to distinguish them from simple scalar values such as ${meters\\_per\\_second} = 5026$.\n",
        "\n",
        "A list of N numbers may also represent the coordinates of a point in an N-dimensional space, so it is quite frequent to represent vectors as simple points instead of arrows. A vector with 1 element may be represented as an arrow or a point on an axis, a vector with 2 elements is an arrow or a point on a plane, a vector with 3 elements is an arrow or point in space, and a vector with N elements is an arrow or a point in an N-dimensional space… which most people find hard to imagine.\n",
        "\n",
        "Reference: https://www.mathsisfun.com/algebra/vectors.html"
      ]
    },
    {
      "cell_type": "markdown",
      "metadata": {
        "id": "ET3lfyCelJtY",
        "colab_type": "text"
      },
      "source": [
        "### Purpose"
      ]
    },
    {
      "cell_type": "markdown",
      "metadata": {
        "id": "6RnXr1tFmYGl",
        "colab_type": "text"
      },
      "source": [
        "Vectors have many purposes in Machine Learning, most notably to represent observations and predictions. For example, say we built a Machine Learning system to classify videos into 3 categories (good, spam, clickbait) based on what we know about them. For each video, we would have a vector representing what we know about it, such as:\n",
        "\n",
        "**video** $= \\begin{pmatrix}\n",
        "10.5 \\\\\n",
        "5.2 \\\\\n",
        "3.25 \\\\\n",
        "7.0\n",
        "\\end{pmatrix}$\n",
        "\n",
        "This vector could represent a video that lasts 10.5 minutes, but only 5.2% viewers watch for more than a minute, it gets 3.25 views per day on average, and it was flagged 7 times as spam. As you can see, each axis may have a different meaning.\n",
        "\n",
        "Based on this vector our Machine Learning system may predict that there is an 80% probability that it is a spam video, 18% that it is clickbait, and 2% that it is a good video. This could be represented as the following vector:\n",
        "\n",
        "**class_probabilities** $= \\begin{pmatrix}\n",
        "0.80 \\\\\n",
        "0.18 \\\\\n",
        "0.02\n",
        "\\end{pmatrix}$"
      ]
    },
    {
      "cell_type": "markdown",
      "metadata": {
        "id": "62EmmGwSmdSM",
        "colab_type": "text"
      },
      "source": [
        "### Vectors in python"
      ]
    },
    {
      "cell_type": "markdown",
      "metadata": {
        "id": "YTuLqXFMmhYz",
        "colab_type": "text"
      },
      "source": [
        "In python, a vector can be represented in many ways, the simplest being a regular python list of numbers:"
      ]
    },
    {
      "cell_type": "code",
      "metadata": {
        "id": "2HwhUXNtmzsI",
        "colab_type": "code",
        "colab": {
          "base_uri": "https://localhost:8080/",
          "height": 33
        },
        "outputId": "84d0528d-c109-41fb-9c26-3e71ef1e0ce5"
      },
      "source": [
        "[10.5, 5.2, 3.25, 7.0]"
      ],
      "execution_count": 2,
      "outputs": [
        {
          "output_type": "execute_result",
          "data": {
            "text/plain": [
              "[10.5, 5.2, 3.25, 7.0]"
            ]
          },
          "metadata": {
            "tags": []
          },
          "execution_count": 2
        }
      ]
    },
    {
      "cell_type": "markdown",
      "metadata": {
        "id": "P_YI8rwDnAez",
        "colab_type": "text"
      },
      "source": [
        "Since we plan to do quite a lot of scientific calculations, it is much better to use NumPy's ndarray, which provides a lot of convenient and optimized implementations of essential mathematical operations on vectors (for more details about NumPy, check out [the NumPy tutorial](https://github.com/ageron/handson-ml2/blob/master/tools_numpy.ipynb)). \n",
        "\n",
        "For example:"
      ]
    },
    {
      "cell_type": "code",
      "metadata": {
        "id": "NS_tM9-Ym2Ex",
        "colab_type": "code",
        "colab": {
          "base_uri": "https://localhost:8080/",
          "height": 33
        },
        "outputId": "de8b5c37-46ab-4f01-ebbc-46baa81be061"
      },
      "source": [
        "video = np.array([10.5, 5.2, 3.25, 7.0])\n",
        "video"
      ],
      "execution_count": 3,
      "outputs": [
        {
          "output_type": "execute_result",
          "data": {
            "text/plain": [
              "array([10.5 ,  5.2 ,  3.25,  7.  ])"
            ]
          },
          "metadata": {
            "tags": []
          },
          "execution_count": 3
        }
      ]
    },
    {
      "cell_type": "markdown",
      "metadata": {
        "id": "1LjOx5jzno-0",
        "colab_type": "text"
      },
      "source": [
        "The size of a vector can be obtained using the size attribute:"
      ]
    },
    {
      "cell_type": "code",
      "metadata": {
        "id": "hSq_Mt_Gnj6l",
        "colab_type": "code",
        "colab": {
          "base_uri": "https://localhost:8080/",
          "height": 33
        },
        "outputId": "76b06049-48d3-48d6-868b-a433025398a5"
      },
      "source": [
        "video.size"
      ],
      "execution_count": 4,
      "outputs": [
        {
          "output_type": "execute_result",
          "data": {
            "text/plain": [
              "4"
            ]
          },
          "metadata": {
            "tags": []
          },
          "execution_count": 4
        }
      ]
    },
    {
      "cell_type": "markdown",
      "metadata": {
        "id": "kW-bt8_xnsuh",
        "colab_type": "text"
      },
      "source": [
        "The shape of a vector can be obtained using the shape attribute:"
      ]
    },
    {
      "cell_type": "code",
      "metadata": {
        "id": "MzHcvfDLnr3z",
        "colab_type": "code",
        "colab": {
          "base_uri": "https://localhost:8080/",
          "height": 33
        },
        "outputId": "c82787f5-737d-47c7-e53f-f6b77caa6275"
      },
      "source": [
        "video.shape"
      ],
      "execution_count": 5,
      "outputs": [
        {
          "output_type": "execute_result",
          "data": {
            "text/plain": [
              "(4,)"
            ]
          },
          "metadata": {
            "tags": []
          },
          "execution_count": 5
        }
      ]
    },
    {
      "cell_type": "markdown",
      "metadata": {
        "id": "Rbh7N12PnyX2",
        "colab_type": "text"
      },
      "source": [
        "The type of a vector can be obtained using the dtype attribute:"
      ]
    },
    {
      "cell_type": "code",
      "metadata": {
        "id": "Cwbj3-_9nwf_",
        "colab_type": "code",
        "colab": {
          "base_uri": "https://localhost:8080/",
          "height": 33
        },
        "outputId": "5396fbc5-8b43-4393-cc8d-7e651e4561d6"
      },
      "source": [
        "video.dtype"
      ],
      "execution_count": 7,
      "outputs": [
        {
          "output_type": "execute_result",
          "data": {
            "text/plain": [
              "dtype('float64')"
            ]
          },
          "metadata": {
            "tags": []
          },
          "execution_count": 7
        }
      ]
    },
    {
      "cell_type": "markdown",
      "metadata": {
        "id": "-vJeFn3HoD-n",
        "colab_type": "text"
      },
      "source": [
        "The $i^{th}$ element (also called *entry* or *item*) of a vector $\\textbf{v}$ is noted $\\textbf{v}_i$.\n",
        "\n",
        "Note that indices in mathematics generally start at 1, but in programming they usually start at 0. So to access $\\textbf{video}_3$ programmatically, we would write:"
      ]
    },
    {
      "cell_type": "code",
      "metadata": {
        "id": "KfkMh0mLn2MI",
        "colab_type": "code",
        "colab": {
          "base_uri": "https://localhost:8080/",
          "height": 33
        },
        "outputId": "c0ad295a-bd3d-4fdc-eab3-da83f061eb96"
      },
      "source": [
        "# 3rd element\n",
        "video[2]"
      ],
      "execution_count": 8,
      "outputs": [
        {
          "output_type": "execute_result",
          "data": {
            "text/plain": [
              "3.25"
            ]
          },
          "metadata": {
            "tags": []
          },
          "execution_count": 8
        }
      ]
    },
    {
      "cell_type": "code",
      "metadata": {
        "id": "6Zxo0mKPoTzk",
        "colab_type": "code",
        "colab": {
          "base_uri": "https://localhost:8080/",
          "height": 33
        },
        "outputId": "de924e36-a2bf-46f7-cf78-af09bef7fb9e"
      },
      "source": [
        "# 4th element\n",
        "video[3]"
      ],
      "execution_count": 9,
      "outputs": [
        {
          "output_type": "execute_result",
          "data": {
            "text/plain": [
              "7.0"
            ]
          },
          "metadata": {
            "tags": []
          },
          "execution_count": 9
        }
      ]
    },
    {
      "cell_type": "markdown",
      "metadata": {
        "id": "3w7wiY8xotkQ",
        "colab_type": "text"
      },
      "source": [
        "### Plotting vectors"
      ]
    },
    {
      "cell_type": "markdown",
      "metadata": {
        "id": "YjyqDaPZo0IJ",
        "colab_type": "text"
      },
      "source": [
        "To plot vectors we will use matplotlib, so let's start by importing it (for details about matplotlib, check the [matplotlib tutorial](https://github.com/ageron/handson-ml2/blob/master/tools_matplotlib.ipynb)):"
      ]
    },
    {
      "cell_type": "markdown",
      "metadata": {
        "id": "YhJavWMIpLej",
        "colab_type": "text"
      },
      "source": [
        "#### 2D vectors"
      ]
    },
    {
      "cell_type": "markdown",
      "metadata": {
        "id": "w5dOTjlbpOU4",
        "colab_type": "text"
      },
      "source": [
        "Let's create a couple very simple 2D vectors to plot:"
      ]
    },
    {
      "cell_type": "code",
      "metadata": {
        "id": "L893f60fouxE",
        "colab_type": "code",
        "colab": {}
      },
      "source": [
        "u = np.array([2, 5])  # x=2 & y=5\n",
        "v = np.array([3, 1])  # x=3 & y=1"
      ],
      "execution_count": 0,
      "outputs": []
    },
    {
      "cell_type": "markdown",
      "metadata": {
        "id": "0FQA8kwBpfip",
        "colab_type": "text"
      },
      "source": [
        "These vectors each have 2 elements, so they can easily be represented graphically on a 2D graph, for example as points:"
      ]
    },
    {
      "cell_type": "code",
      "metadata": {
        "id": "ORPjyf6zpg8I",
        "colab_type": "code",
        "colab": {
          "base_uri": "https://localhost:8080/",
          "height": 269
        },
        "outputId": "6c6d83ef-0a8f-4b19-d477-711eeed2c973"
      },
      "source": [
        "x_coords, y_coords = zip(u, v)\n",
        "\n",
        "plt.scatter(x_coords, y_coords, color=['r', 'g'])\n",
        "plt.axis([0, 9, 0, 6])\n",
        "plt.grid()\n",
        "plt.show()"
      ],
      "execution_count": 17,
      "outputs": [
        {
          "output_type": "display_data",
          "data": {
            "image/png": "[encoded data removed]",
            "text/plain": [
              "<Figure size 432x288 with 1 Axes>"
            ]
          },
          "metadata": {
            "tags": []
          }
        }
      ]
    },
    {
      "cell_type": "markdown",
      "metadata": {
        "id": "lPLPCSiWrXNK",
        "colab_type": "text"
      },
      "source": [
        "Vectors can also be represented as arrows. Let's create a small convenience function to draw nice arrows:"
      ]
    },
    {
      "cell_type": "code",
      "metadata": {
        "id": "2IdvpSmxqoli",
        "colab_type": "code",
        "colab": {}
      },
      "source": [
        "def plot_vector2d(vector2d, origin=[0, 0], **options):\n",
        "  return plt.arrow(origin[0], origin[1], vector2d[0], vector2d[1], \n",
        "                   head_width=0.2, head_length=0.3, length_includes_head=True, **options)"
      ],
      "execution_count": 0,
      "outputs": []
    },
    {
      "cell_type": "markdown",
      "metadata": {
        "id": "HCSb3YjHr-VG",
        "colab_type": "text"
      },
      "source": [
        "Now let's draw the vectors u and v as arrows:"
      ]
    },
    {
      "cell_type": "code",
      "metadata": {
        "id": "_aYBtRlYr_pW",
        "colab_type": "code",
        "colab": {
          "base_uri": "https://localhost:8080/",
          "height": 269
        },
        "outputId": "6bdbddcd-5474-41a5-ba51-3ba43bb37233"
      },
      "source": [
        "plot_vector2d(u, color='r')\n",
        "plot_vector2d(v, color='g')\n",
        "plt.axis([0, 9, 0, 6])\n",
        "plt.grid()\n",
        "plt.show()"
      ],
      "execution_count": 22,
      "outputs": [
        {
          "output_type": "display_data",
          "data": {
            "image/png": "[encoded data removed]",
            "text/plain": [
              "<Figure size 432x288 with 1 Axes>"
            ]
          },
          "metadata": {
            "tags": []
          }
        }
      ]
    },
    {
      "cell_type": "markdown",
      "metadata": {
        "id": "Q1jhttr1ssfD",
        "colab_type": "text"
      },
      "source": [
        "#### 3D vectors"
      ]
    },
    {
      "cell_type": "markdown",
      "metadata": {
        "id": "GssbZA-7stwI",
        "colab_type": "text"
      },
      "source": [
        "Plotting 3D vectors is also relatively straightforward. First let's create two 3D vectors:"
      ]
    },
    {
      "cell_type": "code",
      "metadata": {
        "id": "51lkocSGsTFF",
        "colab_type": "code",
        "colab": {}
      },
      "source": [
        "a = np.array([1, 2, 8])\n",
        "b = np.array([5, 6, 3])"
      ],
      "execution_count": 0,
      "outputs": []
    },
    {
      "cell_type": "markdown",
      "metadata": {
        "id": "eN024N7ns94O",
        "colab_type": "text"
      },
      "source": [
        "Now let's plot them using matplotlib's Axes3D:"
      ]
    },
    {
      "cell_type": "code",
      "metadata": {
        "id": "fkkcohQfs7yw",
        "colab_type": "code",
        "colab": {
          "base_uri": "https://localhost:8080/",
          "height": 248
        },
        "outputId": "2ec326ea-5ff5-4759-9a4a-acefb039166f"
      },
      "source": [
        "x_coords, y_coords, z_coords = zip(a, b)\n",
        "\n",
        "subplot3d = plt.subplot(111, projection='3d')\n",
        "subplot3d.scatter(x_coords, y_coords, z_coords)\n",
        "subplot3d.set_zlim3d([0, 9])\n",
        "plt.show()"
      ],
      "execution_count": 24,
      "outputs": [
        {
          "output_type": "display_data",
          "data": {
            "image/png": "[encoded data removed]",
            "text/plain": [
              "<Figure size 432x288 with 1 Axes>"
            ]
          },
          "metadata": {
            "tags": []
          }
        }
      ]
    },
    {
      "cell_type": "markdown",
      "metadata": {
        "id": "gnsYiA_Kt9pI",
        "colab_type": "text"
      },
      "source": [
        "It is a bit hard to visualize exactly where in space these two points are, so let's add vertical lines. \n",
        "\n",
        "We'll create a small convenience function to plot a list of 3d vectors with vertical lines attached:"
      ]
    },
    {
      "cell_type": "code",
      "metadata": {
        "id": "dy7Eq6CktnUa",
        "colab_type": "code",
        "colab": {
          "base_uri": "https://localhost:8080/",
          "height": 248
        },
        "outputId": "3f838e88-0431-48ab-f9d7-b06625741080"
      },
      "source": [
        "def plot_vectors3d(ax, vectors3d, z0, **options):\n",
        "  for v in vectors3d:\n",
        "    x, y, z = v\n",
        "    ax.plot([x, x], [y, y], [z0, z], color='blue', linestyle='dotted', marker='.')\n",
        "  x_coords, y_coords, z_coords = zip(*vectors3d)\n",
        "  ax.scatter(x_coords, y_coords, z_coords, **options)\n",
        "\n",
        "subplot3d = plt.subplot(111, projection='3d')\n",
        "subplot3d.set_zlim([0, 9])\n",
        "plot_vectors3d(subplot3d, [a, b], 0, color=('r', 'g'))\n",
        "plt.show()"
      ],
      "execution_count": 26,
      "outputs": [
        {
          "output_type": "display_data",
          "data": {
            "image/png": "[encoded data removed]",
            "text/plain": [
              "<Figure size 432x288 with 1 Axes>"
            ]
          },
          "metadata": {
            "tags": []
          }
        }
      ]
    },
    {
      "cell_type": "markdown",
      "metadata": {
        "id": "gV98n6pWvXNL",
        "colab_type": "text"
      },
      "source": [
        "### Norm"
      ]
    },
    {
      "cell_type": "code",
      "metadata": {
        "id": "lCdZaPMdvLVS",
        "colab_type": "code",
        "colab": {}
      },
      "source": [
        ""
      ],
      "execution_count": 0,
      "outputs": []
    }
  ]
}